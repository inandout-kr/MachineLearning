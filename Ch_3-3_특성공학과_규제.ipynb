{
  "nbformat": 4,
  "nbformat_minor": 0,
  "metadata": {
    "colab": {
      "name": "특성공학과_규제.ipynb",
      "provenance": [],
      "collapsed_sections": [],
      "toc_visible": true,
      "authorship_tag": "ABX9TyP6b9unQwsPUC3MiIk5VJ6n",
      "include_colab_link": true
    },
    "kernelspec": {
      "name": "python3",
      "display_name": "Python 3"
    },
    "language_info": {
      "name": "python"
    }
  },
  "cells": [
    {
      "cell_type": "markdown",
      "metadata": {
        "id": "view-in-github",
        "colab_type": "text"
      },
      "source": [
        "<a href=\"https://colab.research.google.com/github/inandout-kr/MachineLearning/blob/main/Ch_3-3_%ED%8A%B9%EC%84%B1%EA%B3%B5%ED%95%99%EA%B3%BC_%EA%B7%9C%EC%A0%9C.ipynb\" target=\"_parent\"><img src=\"https://colab.research.google.com/assets/colab-badge.svg\" alt=\"Open In Colab\"/></a>"
      ]
    },
    {
      "cell_type": "markdown",
      "source": [
        "## 3-2. 특성공학과 규제"
      ],
      "metadata": {
        "id": "Sle8Vzpiq5-l"
      }
    },
    {
      "cell_type": "markdown",
      "source": [
        "### 다중회귀\n",
        "\n",
        "앞에서는 하나의 특성을 사용해 선형 회귀 모델을 훈련시킴.\n",
        "\n",
        "여러 개의 특성을 사용한 선형 회귀를 다중 회귀(multiple regression)라고 부름.\n",
        "\n",
        "즉, 1개의 특성을 사용한 선형 회귀는 직선을 학습하는 반면, 특성이 2개인 선형 회귀는 평면을 학습함. 3차원 이상은 상상하기 힘듦.\n",
        "\n",
        "\n",
        "* 여기서는 **생선 길이 * 생선 높이**를 새로운 특성으로 만들 것임.\n",
        "* 이렇게 기존 특성을 사용해 새로운 특성을 뽑아내는 작업을 **특성 공학(feature engineering)**이라고 부름."
      ],
      "metadata": {
        "id": "YcoD3VTwrlDX"
      }
    },
    {
      "cell_type": "code",
      "source": [
        "import pandas as pd\n",
        "df = pd.read_csv(\"https://bit.ly/perch_csv_data\")\n",
        "perch_full = df.to_numpy()\n",
        "perch_full"
      ],
      "metadata": {
        "colab": {
          "base_uri": "https://localhost:8080/"
        },
        "id": "-j6EF26ysYq7",
        "outputId": "14108fd3-42e2-43dd-8332-959a08876361"
      },
      "execution_count": null,
      "outputs": [
        {
          "output_type": "execute_result",
          "data": {
            "text/plain": [
              "array([[ 8.4 ,  2.11,  1.41],\n",
              "       [13.7 ,  3.53,  2.  ],\n",
              "       [15.  ,  3.82,  2.43],\n",
              "       [16.2 ,  4.59,  2.63],\n",
              "       [17.4 ,  4.59,  2.94],\n",
              "       [18.  ,  5.22,  3.32],\n",
              "       [18.7 ,  5.2 ,  3.12],\n",
              "       [19.  ,  5.64,  3.05],\n",
              "       [19.6 ,  5.14,  3.04],\n",
              "       [20.  ,  5.08,  2.77],\n",
              "       [21.  ,  5.69,  3.56],\n",
              "       [21.  ,  5.92,  3.31],\n",
              "       [21.  ,  5.69,  3.67],\n",
              "       [21.3 ,  6.38,  3.53],\n",
              "       [22.  ,  6.11,  3.41],\n",
              "       [22.  ,  5.64,  3.52],\n",
              "       [22.  ,  6.11,  3.52],\n",
              "       [22.  ,  5.88,  3.52],\n",
              "       [22.  ,  5.52,  4.  ],\n",
              "       [22.5 ,  5.86,  3.62],\n",
              "       [22.5 ,  6.79,  3.62],\n",
              "       [22.7 ,  5.95,  3.63],\n",
              "       [23.  ,  5.22,  3.63],\n",
              "       [23.5 ,  6.28,  3.72],\n",
              "       [24.  ,  7.29,  3.72],\n",
              "       [24.  ,  6.38,  3.82],\n",
              "       [24.6 ,  6.73,  4.17],\n",
              "       [25.  ,  6.44,  3.68],\n",
              "       [25.6 ,  6.56,  4.24],\n",
              "       [26.5 ,  7.17,  4.14],\n",
              "       [27.3 ,  8.32,  5.14],\n",
              "       [27.5 ,  7.17,  4.34],\n",
              "       [27.5 ,  7.05,  4.34],\n",
              "       [27.5 ,  7.28,  4.57],\n",
              "       [28.  ,  7.82,  4.2 ],\n",
              "       [28.7 ,  7.59,  4.64],\n",
              "       [30.  ,  7.62,  4.77],\n",
              "       [32.8 , 10.03,  6.02],\n",
              "       [34.5 , 10.26,  6.39],\n",
              "       [35.  , 11.49,  7.8 ],\n",
              "       [36.5 , 10.88,  6.86],\n",
              "       [36.  , 10.61,  6.74],\n",
              "       [37.  , 10.84,  6.26],\n",
              "       [37.  , 10.57,  6.37],\n",
              "       [39.  , 11.14,  7.49],\n",
              "       [39.  , 11.14,  6.  ],\n",
              "       [39.  , 12.43,  7.35],\n",
              "       [40.  , 11.93,  7.11],\n",
              "       [40.  , 11.73,  7.22],\n",
              "       [40.  , 12.38,  7.46],\n",
              "       [40.  , 11.14,  6.63],\n",
              "       [42.  , 12.8 ,  6.87],\n",
              "       [43.  , 11.93,  7.28],\n",
              "       [43.  , 12.51,  7.42],\n",
              "       [43.5 , 12.6 ,  8.14],\n",
              "       [44.  , 12.49,  7.6 ]])"
            ]
          },
          "metadata": {},
          "execution_count": 1
        }
      ]
    },
    {
      "cell_type": "code",
      "source": [
        "perch_full.shape"
      ],
      "metadata": {
        "colab": {
          "base_uri": "https://localhost:8080/"
        },
        "id": "9GTeoj8xsiwz",
        "outputId": "4c68b717-ab17-4200-b202-3eeb037bb928"
      },
      "execution_count": null,
      "outputs": [
        {
          "output_type": "execute_result",
          "data": {
            "text/plain": [
              "(56, 3)"
            ]
          },
          "metadata": {},
          "execution_count": 2
        }
      ]
    },
    {
      "cell_type": "code",
      "source": [
        "import numpy as np\n",
        "perch_length = np.array([8.4, 13.7, 15.0, 16.2, 17.4, 18.0, 18.7, 19.0, 19.6, 20.0, 21.0,\n",
        "       21.0, 21.0, 21.3, 22.0, 22.0, 22.0, 22.0, 22.0, 22.5, 22.5, 22.7,\n",
        "       23.0, 23.5, 24.0, 24.0, 24.6, 25.0, 25.6, 26.5, 27.3, 27.5, 27.5,\n",
        "       27.5, 28.0, 28.7, 30.0, 32.8, 34.5, 35.0, 36.5, 36.0, 37.0, 37.0,\n",
        "       39.0, 39.0, 39.0, 40.0, 40.0, 40.0, 40.0, 42.0, 43.0, 43.0, 43.5,\n",
        "       44.0])\n",
        "perch_weight = np.array([5.9, 32.0, 40.0, 51.5, 70.0, 100.0, 78.0, 80.0, 85.0, 85.0, 110.0,\n",
        "       115.0, 125.0, 130.0, 120.0, 120.0, 130.0, 135.0, 110.0, 130.0,\n",
        "       150.0, 145.0, 150.0, 170.0, 225.0, 145.0, 188.0, 180.0, 197.0,\n",
        "       218.0, 300.0, 260.0, 265.0, 250.0, 250.0, 300.0, 320.0, 514.0,\n",
        "       556.0, 840.0, 685.0, 700.0, 700.0, 690.0, 900.0, 650.0, 820.0,\n",
        "       850.0, 900.0, 1015.0, 820.0, 1100.0, 1000.0, 1100.0, 1000.0,\n",
        "       1000.0])"
      ],
      "metadata": {
        "id": "2swmRroUsmtS"
      },
      "execution_count": null,
      "outputs": []
    },
    {
      "cell_type": "code",
      "source": [
        "from sklearn.model_selection import train_test_split\n",
        "train_input, test_input, train_target, test_target = train_test_split(perch_full, perch_weight, random_state=42)"
      ],
      "metadata": {
        "id": "sLSpfsr8s01b"
      },
      "execution_count": null,
      "outputs": []
    },
    {
      "cell_type": "markdown",
      "source": [
        "### 사이킷런 변환기(transformer)\n",
        "\n",
        "특성을 만들거나 전처리하기 위한 클래스를 transformer라고 부름.\n",
        "\n",
        "fit(), transform() 메서드를 제공해줌."
      ],
      "metadata": {
        "id": "qChpjQIFtQp2"
      }
    },
    {
      "cell_type": "code",
      "source": [
        "from sklearn.preprocessing import PolynomialFeatures"
      ],
      "metadata": {
        "id": "a4ib5ovDthqC"
      },
      "execution_count": null,
      "outputs": []
    },
    {
      "cell_type": "code",
      "source": [
        "# 2개의 특성 2와 3으로 이루어진 샘플 적용\n",
        "\n",
        "poly = PolynomialFeatures()  # 객체 생성\n",
        "poly.fit([[2, 3]])  # 새롭게 만들 특성 조합을 찾음\n",
        "print(poly.transform([[2, 3]]))  # 실제로 데이터를 변환"
      ],
      "metadata": {
        "colab": {
          "base_uri": "https://localhost:8080/"
        },
        "id": "CX7gTHIgtvb6",
        "outputId": "36b8dfa7-fb5a-468d-bfcf-69c67eb328f2"
      },
      "execution_count": null,
      "outputs": [
        {
          "output_type": "stream",
          "name": "stdout",
          "text": [
            "[[1. 2. 3. 4. 6. 9.]]\n"
          ]
        }
      ]
    },
    {
      "cell_type": "markdown",
      "source": [
        "2개의 특성(원소)을 가진 샘플 [2, 3]이 6개의 특성을 가진 샘플 [1. 2. 3. 4. 6. 9.]으로 transform\n",
        "\n",
        "PolynomialFeatures Class는 기본적으로 각 특성을 제곱한 항을 추가하고, 특성끼리 서로 곱한 항을 추가함.\n",
        "\n",
        "- 1은 왜 추가되었을까?\n",
        "  - $무게 = a * 길이 + b * 높이 + c * 두께 + d * 1$\n",
        "  - 선형 방정식의 절편 = 항상 값이 1인 특성과 곱해지는 계수\n",
        "  - 그러므로 특성은 (길이, 높이, 두께, 1)이 됨\n",
        "\n",
        "\n",
        "그러나 사이킷런의 선형 모델은 자동으로 절편을 추가하므로, 굳이 여기서 만들어주지 않아도 됨. include_bias=False로 지정해 특성을 변환하자."
      ],
      "metadata": {
        "id": "He7Bw0xs21gC"
      }
    },
    {
      "cell_type": "code",
      "source": [
        "poly = PolynomialFeatures(include_bias=False)\n",
        "poly.fit([[2, 3]])\n",
        "print(poly.transform([[2, 3]]))\n",
        "# 절편을 위한 항(1)이 제거된 것을 확인할 수 있음\n",
        "## 사실 이렇게 제거해주지 않아도 사이킷런이 알아서 절편 항을 무시함. 여기선 개념을 이해하기 위해 명시."
      ],
      "metadata": {
        "colab": {
          "base_uri": "https://localhost:8080/"
        },
        "id": "nB4EHs6s3oQa",
        "outputId": "7854c9c1-ff81-4c2a-d96a-69f828ceb3af"
      },
      "execution_count": null,
      "outputs": [
        {
          "output_type": "stream",
          "name": "stdout",
          "text": [
            "[[2. 3. 4. 6. 9.]]\n"
          ]
        }
      ]
    },
    {
      "cell_type": "markdown",
      "source": [
        "이제 이 방식으로 train_input에 적용"
      ],
      "metadata": {
        "id": "AXpolByf39Sm"
      }
    },
    {
      "cell_type": "code",
      "source": [
        "poly = PolynomialFeatures(include_bias=False)\n",
        "\n",
        "poly.fit(train_input)\n",
        "train_poly = poly.transform(train_input)\n",
        "train_poly"
      ],
      "metadata": {
        "colab": {
          "base_uri": "https://localhost:8080/"
        },
        "id": "Q6XsZHPX31YS",
        "outputId": "7d408e74-64cf-43dd-9dd6-0c98d6ad4a00"
      },
      "execution_count": null,
      "outputs": [
        {
          "output_type": "execute_result",
          "data": {
            "text/plain": [
              "array([[  19.6   ,    5.14  ,    3.04  ,  384.16  ,  100.744 ,   59.584 ,\n",
              "          26.4196,   15.6256,    9.2416],\n",
              "       [  22.    ,    5.88  ,    3.52  ,  484.    ,  129.36  ,   77.44  ,\n",
              "          34.5744,   20.6976,   12.3904],\n",
              "       [  18.7   ,    5.2   ,    3.12  ,  349.69  ,   97.24  ,   58.344 ,\n",
              "          27.04  ,   16.224 ,    9.7344],\n",
              "       [  17.4   ,    4.59  ,    2.94  ,  302.76  ,   79.866 ,   51.156 ,\n",
              "          21.0681,   13.4946,    8.6436],\n",
              "       [  36.    ,   10.61  ,    6.74  , 1296.    ,  381.96  ,  242.64  ,\n",
              "         112.5721,   71.5114,   45.4276],\n",
              "       [  25.    ,    6.44  ,    3.68  ,  625.    ,  161.    ,   92.    ,\n",
              "          41.4736,   23.6992,   13.5424],\n",
              "       [  40.    ,   11.93  ,    7.11  , 1600.    ,  477.2   ,  284.4   ,\n",
              "         142.3249,   84.8223,   50.5521],\n",
              "       [  39.    ,   12.43  ,    7.35  , 1521.    ,  484.77  ,  286.65  ,\n",
              "         154.5049,   91.3605,   54.0225],\n",
              "       [  43.    ,   11.93  ,    7.28  , 1849.    ,  512.99  ,  313.04  ,\n",
              "         142.3249,   86.8504,   52.9984],\n",
              "       [  22.    ,    5.64  ,    3.52  ,  484.    ,  124.08  ,   77.44  ,\n",
              "          31.8096,   19.8528,   12.3904],\n",
              "       [  20.    ,    5.08  ,    2.77  ,  400.    ,  101.6   ,   55.4   ,\n",
              "          25.8064,   14.0716,    7.6729],\n",
              "       [  22.    ,    6.11  ,    3.52  ,  484.    ,  134.42  ,   77.44  ,\n",
              "          37.3321,   21.5072,   12.3904],\n",
              "       [  24.    ,    7.29  ,    3.72  ,  576.    ,  174.96  ,   89.28  ,\n",
              "          53.1441,   27.1188,   13.8384],\n",
              "       [  27.5   ,    7.17  ,    4.34  ,  756.25  ,  197.175 ,  119.35  ,\n",
              "          51.4089,   31.1178,   18.8356],\n",
              "       [  43.    ,   12.51  ,    7.42  , 1849.    ,  537.93  ,  319.06  ,\n",
              "         156.5001,   92.8242,   55.0564],\n",
              "       [  40.    ,   11.73  ,    7.22  , 1600.    ,  469.2   ,  288.8   ,\n",
              "         137.5929,   84.6906,   52.1284],\n",
              "       [  24.    ,    6.38  ,    3.82  ,  576.    ,  153.12  ,   91.68  ,\n",
              "          40.7044,   24.3716,   14.5924],\n",
              "       [  21.    ,    5.92  ,    3.31  ,  441.    ,  124.32  ,   69.51  ,\n",
              "          35.0464,   19.5952,   10.9561],\n",
              "       [  27.5   ,    7.05  ,    4.34  ,  756.25  ,  193.875 ,  119.35  ,\n",
              "          49.7025,   30.597 ,   18.8356],\n",
              "       [  40.    ,   12.38  ,    7.46  , 1600.    ,  495.2   ,  298.4   ,\n",
              "         153.2644,   92.3548,   55.6516],\n",
              "       [  32.8   ,   10.03  ,    6.02  , 1075.84  ,  328.984 ,  197.456 ,\n",
              "         100.6009,   60.3806,   36.2404],\n",
              "       [  26.5   ,    7.17  ,    4.14  ,  702.25  ,  190.005 ,  109.71  ,\n",
              "          51.4089,   29.6838,   17.1396],\n",
              "       [  36.5   ,   10.88  ,    6.86  , 1332.25  ,  397.12  ,  250.39  ,\n",
              "         118.3744,   74.6368,   47.0596],\n",
              "       [  13.7   ,    3.53  ,    2.    ,  187.69  ,   48.361 ,   27.4   ,\n",
              "          12.4609,    7.06  ,    4.    ],\n",
              "       [  22.7   ,    5.95  ,    3.63  ,  515.29  ,  135.065 ,   82.401 ,\n",
              "          35.4025,   21.5985,   13.1769],\n",
              "       [  15.    ,    3.82  ,    2.43  ,  225.    ,   57.3   ,   36.45  ,\n",
              "          14.5924,    9.2826,    5.9049],\n",
              "       [  37.    ,   10.57  ,    6.37  , 1369.    ,  391.09  ,  235.69  ,\n",
              "         111.7249,   67.3309,   40.5769],\n",
              "       [  35.    ,   11.49  ,    7.8   , 1225.    ,  402.15  ,  273.    ,\n",
              "         132.0201,   89.622 ,   60.84  ],\n",
              "       [  28.7   ,    7.59  ,    4.64  ,  823.69  ,  217.833 ,  133.168 ,\n",
              "          57.6081,   35.2176,   21.5296],\n",
              "       [  23.5   ,    6.28  ,    3.72  ,  552.25  ,  147.58  ,   87.42  ,\n",
              "          39.4384,   23.3616,   13.8384],\n",
              "       [  39.    ,   11.14  ,    6.    , 1521.    ,  434.46  ,  234.    ,\n",
              "         124.0996,   66.84  ,   36.    ],\n",
              "       [  21.    ,    5.69  ,    3.56  ,  441.    ,  119.49  ,   74.76  ,\n",
              "          32.3761,   20.2564,   12.6736],\n",
              "       [  23.    ,    5.22  ,    3.63  ,  529.    ,  120.06  ,   83.49  ,\n",
              "          27.2484,   18.9486,   13.1769],\n",
              "       [  22.    ,    5.52  ,    4.    ,  484.    ,  121.44  ,   88.    ,\n",
              "          30.4704,   22.08  ,   16.    ],\n",
              "       [  44.    ,   12.49  ,    7.6   , 1936.    ,  549.56  ,  334.4   ,\n",
              "         156.0001,   94.924 ,   57.76  ],\n",
              "       [  22.5   ,    6.79  ,    3.62  ,  506.25  ,  152.775 ,   81.45  ,\n",
              "          46.1041,   24.5798,   13.1044],\n",
              "       [  19.    ,    5.64  ,    3.05  ,  361.    ,  107.16  ,   57.95  ,\n",
              "          31.8096,   17.202 ,    9.3025],\n",
              "       [  37.    ,   10.84  ,    6.26  , 1369.    ,  401.08  ,  231.62  ,\n",
              "         117.5056,   67.8584,   39.1876],\n",
              "       [  22.    ,    6.11  ,    3.41  ,  484.    ,  134.42  ,   75.02  ,\n",
              "          37.3321,   20.8351,   11.6281],\n",
              "       [  25.6   ,    6.56  ,    4.24  ,  655.36  ,  167.936 ,  108.544 ,\n",
              "          43.0336,   27.8144,   17.9776],\n",
              "       [  42.    ,   12.8   ,    6.87  , 1764.    ,  537.6   ,  288.54  ,\n",
              "         163.84  ,   87.936 ,   47.1969],\n",
              "       [  34.5   ,   10.26  ,    6.39  , 1190.25  ,  353.97  ,  220.455 ,\n",
              "         105.2676,   65.5614,   40.8321]])"
            ]
          },
          "metadata": {},
          "execution_count": 29
        }
      ]
    },
    {
      "cell_type": "code",
      "source": [
        "train_input.shape"
      ],
      "metadata": {
        "colab": {
          "base_uri": "https://localhost:8080/"
        },
        "id": "mpWdJQh74frk",
        "outputId": "59c36dd8-54ce-464b-821f-860097fed1d7"
      },
      "execution_count": null,
      "outputs": [
        {
          "output_type": "execute_result",
          "data": {
            "text/plain": [
              "(42, 3)"
            ]
          },
          "metadata": {},
          "execution_count": 30
        }
      ]
    },
    {
      "cell_type": "code",
      "source": [
        "train_poly.shape"
      ],
      "metadata": {
        "colab": {
          "base_uri": "https://localhost:8080/"
        },
        "id": "O20oEm_Q4WUi",
        "outputId": "e2d1929a-11ff-472c-aa08-458d9f515c44"
      },
      "execution_count": null,
      "outputs": [
        {
          "output_type": "execute_result",
          "data": {
            "text/plain": [
              "(42, 9)"
            ]
          },
          "metadata": {},
          "execution_count": 31
        }
      ]
    },
    {
      "cell_type": "code",
      "source": [
        "# 9개 특성이 어떻게 만들어졌는지 확인\n",
        "poly.get_feature_names_out()"
      ],
      "metadata": {
        "colab": {
          "base_uri": "https://localhost:8080/"
        },
        "id": "Wz_zddEe4pXI",
        "outputId": "934ad234-dc60-4e38-a219-5ec57c566498"
      },
      "execution_count": null,
      "outputs": [
        {
          "output_type": "execute_result",
          "data": {
            "text/plain": [
              "array(['x0', 'x1', 'x2', 'x0^2', 'x0 x1', 'x0 x2', 'x1^2', 'x1 x2',\n",
              "       'x2^2'], dtype=object)"
            ]
          },
          "metadata": {},
          "execution_count": 32
        }
      ]
    },
    {
      "cell_type": "code",
      "source": [
        "test_poly = poly.transform(test_input)\n",
        "test_poly.shape"
      ],
      "metadata": {
        "colab": {
          "base_uri": "https://localhost:8080/"
        },
        "id": "GqB_-FtQ4tHK",
        "outputId": "9dfcb679-c157-4595-fef0-3d164eeb2ddc"
      },
      "execution_count": null,
      "outputs": [
        {
          "output_type": "execute_result",
          "data": {
            "text/plain": [
              "(14, 9)"
            ]
          },
          "metadata": {},
          "execution_count": 33
        }
      ]
    },
    {
      "cell_type": "markdown",
      "source": [
        "항상 train set을 기준으로 test set을 변환하는 습관을 들이자!"
      ],
      "metadata": {
        "id": "WiW8M9x244S6"
      }
    },
    {
      "cell_type": "markdown",
      "source": [
        "### 다중 회귀 모델 훈련하기"
      ],
      "metadata": {
        "id": "cI4f16Oi5BGh"
      }
    },
    {
      "cell_type": "code",
      "source": [
        "from sklearn.linear_model import LinearRegression\n",
        "\n",
        "lr = LinearRegression()\n",
        "lr.fit(train_poly, train_target)\n",
        "lr.score(train_poly, train_target)"
      ],
      "metadata": {
        "colab": {
          "base_uri": "https://localhost:8080/"
        },
        "id": "7Qi1bCc85Gz5",
        "outputId": "30e14944-2e3e-49f8-de7c-5567d0073d46"
      },
      "execution_count": null,
      "outputs": [
        {
          "output_type": "execute_result",
          "data": {
            "text/plain": [
              "0.9903183436982124"
            ]
          },
          "metadata": {},
          "execution_count": 34
        }
      ]
    },
    {
      "cell_type": "code",
      "source": [
        "lr.score(test_poly, test_target)"
      ],
      "metadata": {
        "colab": {
          "base_uri": "https://localhost:8080/"
        },
        "id": "s5tTxSlK5Yrr",
        "outputId": "8e6ea64b-a49e-4412-cf97-35386beb9ba8"
      },
      "execution_count": null,
      "outputs": [
        {
          "output_type": "execute_result",
          "data": {
            "text/plain": [
              "0.9714559911594134"
            ]
          },
          "metadata": {},
          "execution_count": 35
        }
      ]
    },
    {
      "cell_type": "markdown",
      "source": [
        "점수는 늘지 않았지만, 과소적합 문제는 이제 없다.\n",
        "\n",
        "- 특성을 더 많이 추가하면 어떨까?"
      ],
      "metadata": {
        "id": "sBP1bEU35fw6"
      }
    },
    {
      "cell_type": "code",
      "source": [
        "poly = PolynomialFeatures(degree=5, include_bias=False)  # degree param으로 필요한 고차항의 최대 차수 지정. 여기선 5제곱\n",
        "\n",
        "poly.fit(train_input)\n",
        "train_poly = poly.transform(train_input)\n",
        "test_poly = poly.transform(test_input)"
      ],
      "metadata": {
        "id": "wXx2dKxe5oXB"
      },
      "execution_count": null,
      "outputs": []
    },
    {
      "cell_type": "code",
      "source": [
        "train_poly.shape"
      ],
      "metadata": {
        "colab": {
          "base_uri": "https://localhost:8080/"
        },
        "id": "oKOIYifm52AK",
        "outputId": "d2d20b13-cfde-4eeb-b680-ffebca708037"
      },
      "execution_count": null,
      "outputs": [
        {
          "output_type": "execute_result",
          "data": {
            "text/plain": [
              "(42, 55)"
            ]
          },
          "metadata": {},
          "execution_count": 38
        }
      ]
    },
    {
      "cell_type": "code",
      "source": [
        "lr.fit(train_poly, train_target)\n",
        "print(lr.score(train_poly, train_target))"
      ],
      "metadata": {
        "colab": {
          "base_uri": "https://localhost:8080/"
        },
        "id": "fotUmegG55zD",
        "outputId": "9311e0ce-fabc-465c-8961-e91cf5d05bd2"
      },
      "execution_count": null,
      "outputs": [
        {
          "output_type": "stream",
          "name": "stdout",
          "text": [
            "0.9999999999991097\n"
          ]
        }
      ]
    },
    {
      "cell_type": "code",
      "source": [
        "print(lr.score(test_poly, test_target))"
      ],
      "metadata": {
        "colab": {
          "base_uri": "https://localhost:8080/"
        },
        "id": "J-q8dvfA58gK",
        "outputId": "029a0324-cc47-44e8-fd79-4d7bff816fd7"
      },
      "execution_count": null,
      "outputs": [
        {
          "output_type": "stream",
          "name": "stdout",
          "text": [
            "-144.40579242684848\n"
          ]
        }
      ]
    },
    {
      "cell_type": "markdown",
      "source": [
        "train set에선 거의 1에 가까운 점수. 그러나 test set에선 왜 이렇게 낮은 음수로 나올까?\n",
        "\n",
        "- train set에 대해 거의 완벽하게 학습했기 때문\n",
        "- 특성의 개수를 늘리면 선형 모델은 당연히 강력해짐\n",
        "- **과대적합!**\n",
        "\n",
        "\n",
        "+ train set의 sample 개수는 42개밖에 되지 않음. 그러나 특성은 55개이므로 완벽하게 학습하는 것이 당연.\n",
        "  + Ex) 42마리의 참새를 맞추기 위해 딱 한 번 새총을 쏴야 한다면 참새 떼 중앙을 겨냥하여 맞출 가능성을 높여야 함. 그러나 55번이나 쏠 수 있다면 한 번에 하나씩 모든 참새를 맞출 수 있음."
      ],
      "metadata": {
        "id": "H2Fdma715_kq"
      }
    },
    {
      "cell_type": "markdown",
      "source": [
        "### 규제\n",
        "\n",
        "특성을 줄여보자.\n",
        "\n",
        "**규제(regularization)**는 모델이 train set을 과도하게 학습하지 못하도록 훼방하는 것을 말함.\n",
        "\n",
        "즉 모델이 train set에 과대적합되지 않도록 만듦.\n",
        "\n",
        "선형 회귀 모델의 경우, 특성에 곱해지는 계수(or 기울기)의 크기를 작게 만드는 일."
      ],
      "metadata": {
        "id": "z2PzoKYh6udf"
      }
    },
    {
      "cell_type": "markdown",
      "source": [
        "![image.png](data:image/png;base64,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)"
      ],
      "metadata": {
        "id": "U7oBWvkr7Swb"
      }
    },
    {
      "cell_type": "markdown",
      "source": [
        "출처: https://velog.io/@mschoi0122/%ED%98%BC%EA%B3%B5%EB%A8%B8%EC%8B%A0"
      ],
      "metadata": {
        "id": "zTuqlC8f7U9u"
      }
    },
    {
      "cell_type": "markdown",
      "source": [
        "일단 특성의 scale을 정규화해야 함. 그렇지 않으면 여기에 곱해지는 계수 값도 차이가 나게 됨.\n",
        "\n",
        "선형 회귀 모델에 규제를 적용할 때 계수 값의 크기가 서로 많이 다르면 공정하게 제어되지 않을 것.\n",
        "\n",
        "1. 정규화\n",
        "2. 규제\n",
        "\n",
        "의 순서로 가보자. 이전에는 mean과 std를 구해서 특성을 표준점수로 바꾸었는데, 여기에서는 사이킷런에서 제공하는 StandardScaler Class를 사용해보자(이 class도 변환기의 하나).\n"
      ],
      "metadata": {
        "id": "r7OrPizd7aGN"
      }
    },
    {
      "cell_type": "code",
      "source": [
        "from sklearn.preprocessing import StandardScaler\n",
        "\n",
        "ss = StandardScaler()\n",
        "ss.fit(train_poly)\n",
        "\n",
        "train_scaled = ss.transform(train_poly)\n",
        "test_scaled = ss.transform(test_poly)  # 꼭 train set으로 학습한 변환기로 test set까지 변환해야 함"
      ],
      "metadata": {
        "id": "dnyF5rkU72eD"
      },
      "execution_count": null,
      "outputs": []
    },
    {
      "cell_type": "markdown",
      "source": [
        "선형 회귀 모델에 규제를 추가한 모델을 **릿지(ridge)**와 **라쏘(lasso)**라고 부른다.\n",
        "\n",
        "이 두 모델은 규제를 가하는 방법이 다름.\n",
        "- 릿지: 계수를 제곱한 값을 기준으로 규제 적용\n",
        "- 라쏘: 계수의 절댓값을 기준으로 규제 적용\n",
        "\n",
        "일반적으로 릿지를 조금 더 선호. 두 알고리즘 모두 계수의 크기를 줄이지만, 라쏘는 아예 0으로 만들 수도 있음."
      ],
      "metadata": {
        "id": "uT_RvAiL8FOB"
      }
    },
    {
      "cell_type": "markdown",
      "source": [
        "### 릿지 회귀\n"
      ],
      "metadata": {
        "id": "lWtKe-am8ryh"
      }
    },
    {
      "cell_type": "code",
      "source": [
        "from sklearn.linear_model import Ridge\n",
        "\n",
        "ridge = Ridge()\n",
        "ridge.fit(train_scaled, train_target)\n",
        "print(ridge.score(train_scaled, train_target))"
      ],
      "metadata": {
        "colab": {
          "base_uri": "https://localhost:8080/"
        },
        "id": "tltP4CNP8xyp",
        "outputId": "08b4a11e-746b-48c3-80dc-61da8c9fe45d"
      },
      "execution_count": null,
      "outputs": [
        {
          "output_type": "stream",
          "name": "stdout",
          "text": [
            "0.9896101671037343\n"
          ]
        }
      ]
    },
    {
      "cell_type": "code",
      "source": [
        "train_scaled.shape"
      ],
      "metadata": {
        "colab": {
          "base_uri": "https://localhost:8080/"
        },
        "id": "a6617w7782C5",
        "outputId": "878c7d68-8ec2-4441-f6c6-f05c8cdeb664"
      },
      "execution_count": null,
      "outputs": [
        {
          "output_type": "execute_result",
          "data": {
            "text/plain": [
              "(42, 55)"
            ]
          },
          "metadata": {},
          "execution_count": 44
        }
      ]
    },
    {
      "cell_type": "code",
      "source": [
        "print(ridge.score(test_scaled, test_target))"
      ],
      "metadata": {
        "colab": {
          "base_uri": "https://localhost:8080/"
        },
        "id": "dd0JFuXA8yTi",
        "outputId": "c3e1bbc3-ef4a-40bf-e031-c4ca8b4c813e"
      },
      "execution_count": null,
      "outputs": [
        {
          "output_type": "stream",
          "name": "stdout",
          "text": [
            "0.9790693977615397\n"
          ]
        }
      ]
    },
    {
      "cell_type": "code",
      "source": [
        "test_scaled.shape"
      ],
      "metadata": {
        "colab": {
          "base_uri": "https://localhost:8080/"
        },
        "id": "WTe1zBUe84TC",
        "outputId": "75f8320b-060b-4038-8b66-3168614f20b2"
      },
      "execution_count": null,
      "outputs": [
        {
          "output_type": "execute_result",
          "data": {
            "text/plain": [
              "(14, 55)"
            ]
          },
          "metadata": {},
          "execution_count": 45
        }
      ]
    },
    {
      "cell_type": "markdown",
      "source": [
        "릿지, 라쏘 모델 사용 시, 규제의 양 조절 가능.\n",
        "\n",
        "객체 만들 때 alpha param으로 조절.\n",
        "\n",
        "- alpha 값이 크면 규제 강도가 세지므로 계수(기울기) 값을 더 줄이고 조금 더 과소적합되도록 유도.\n",
        "- 작으면 과대적합될 가능성이 큼.\n",
        "\n"
      ],
      "metadata": {
        "id": "vm_SGGYn88j5"
      }
    },
    {
      "cell_type": "markdown",
      "source": [
        "적절한 alpha 값을 찾는 방법?\n",
        "\n",
        "- alpha 값에 대한 $R^2$ 값의 그래프를 그려보자.\n",
        "- train set과 test set의 점수가 가장 가까운 지점이 최적의 alpha 값이 됨."
      ],
      "metadata": {
        "id": "wSxg4kuw9WNy"
      }
    },
    {
      "cell_type": "code",
      "source": [
        "train_score = []\n",
        "test_score = []"
      ],
      "metadata": {
        "id": "ko6V0ULM9xQ5"
      },
      "execution_count": null,
      "outputs": []
    },
    {
      "cell_type": "code",
      "source": [
        "alpha_list = [0.001, 0.01, 0.1, 1, 10, 100]\n",
        "for alpha in alpha_list:\n",
        "    # 릿지 모델 생성\n",
        "    ridge = Ridge(alpha=alpha)\n",
        "\n",
        "    # 릿지 모델 훈련\n",
        "    ridge.fit(train_scaled, train_target)\n",
        "    \n",
        "    # 훈련 점수, 테스트 점수 저장\n",
        "    train_score.append(ridge.score(train_scaled, train_target))\n",
        "    test_score.append(ridge.score(test_scaled, test_target))"
      ],
      "metadata": {
        "id": "wGCsQJor9zG7"
      },
      "execution_count": null,
      "outputs": []
    },
    {
      "cell_type": "code",
      "source": [
        "import matplotlib.pyplot as plt\n",
        "\n",
        "plt.plot(alpha_list, train_score)\n",
        "plt.plot(alpha_list, test_score)\n",
        "plt.xlabel('alpha')\n",
        "plt.ylabel('R^2')\n",
        "plt.show()"
      ],
      "metadata": {
        "colab": {
          "base_uri": "https://localhost:8080/",
          "height": 279
        },
        "id": "nZJlmR4I-K7d",
        "outputId": "1a55f2f3-d11e-40ae-951b-e9a2f07d4fc0"
      },
      "execution_count": null,
      "outputs": [
        {
          "output_type": "display_data",
          "data": {
            "image/png": "[encoded data removed]",
            "text/plain": [
              "<Figure size 432x288 with 1 Axes>"
            ]
          },
          "metadata": {
            "needs_background": "light"
          }
        }
      ]
    },
    {
      "cell_type": "markdown",
      "source": [
        "10배씩 늘렸기 때문에 상용로그 취해주자.\n",
        "\n",
        "* np.log(): 자연상수 e를 밑으로 하는 자연로그\n",
        "* np.log10(): 10을 밑으로 하는 상용로그"
      ],
      "metadata": {
        "id": "1w2ZxINk-VjF"
      }
    },
    {
      "cell_type": "code",
      "source": [
        "plt.plot(np.log10(alpha_list), train_score)\n",
        "plt.plot(np.log10(alpha_list), test_score)\n",
        "plt.xlabel('alpha')\n",
        "plt.ylabel('R^2')\n",
        "plt.show()"
      ],
      "metadata": {
        "colab": {
          "base_uri": "https://localhost:8080/",
          "height": 279
        },
        "id": "UrDq2U-e-Fih",
        "outputId": "33ba58bf-8764-4a9a-c077-6c810dd69b5a"
      },
      "execution_count": null,
      "outputs": [
        {
          "output_type": "display_data",
          "data": {
            "image/png": "[encoded data removed]",
            "text/plain": [
              "<Figure size 432x288 with 1 Axes>"
            ]
          },
          "metadata": {
            "needs_background": "light"
          }
        }
      ]
    },
    {
      "cell_type": "markdown",
      "source": [
        "위가 train set, 아래가 test set\n",
        "\n",
        "왼쪽은 점수 차이가 큼. train set에는 잘 맞고 test set에는 잘 맞지 않는 전형적인 과대적합.\n",
        "\n",
        "두 그래프가 가장 가깝고, test set의 점수가 가장 높은 -1, 즉 $10^{-1} = 0.1$ "
      ],
      "metadata": {
        "id": "57CYSEm97UJF"
      }
    },
    {
      "cell_type": "code",
      "source": [
        "ridge = Ridge(alpha=0.1)\n",
        "ridge.fit(train_scaled, train_target)\n",
        "\n",
        "print(ridge.score(train_scaled, train_target))\n",
        "print(ridge.score(test_scaled, test_target))"
      ],
      "metadata": {
        "colab": {
          "base_uri": "https://localhost:8080/"
        },
        "id": "p77iq7i9_M1C",
        "outputId": "de0ddc69-f40b-4a0b-ed2c-84111a5a304d"
      },
      "execution_count": null,
      "outputs": [
        {
          "output_type": "stream",
          "name": "stdout",
          "text": [
            "0.9903815817570366\n",
            "0.9827976465386926\n"
          ]
        }
      ]
    },
    {
      "cell_type": "markdown",
      "source": [
        "과대적합과 과소적합 사이에서 균형이 잘 맞는 것을 확인 가능"
      ],
      "metadata": {
        "id": "nsDg5Hlr_SZi"
      }
    },
    {
      "cell_type": "markdown",
      "source": [
        "### 라쏘 회귀\n"
      ],
      "metadata": {
        "id": "EPyVbZUn_QUT"
      }
    },
    {
      "cell_type": "code",
      "source": [
        "from sklearn.linear_model import Lasso\n",
        "\n",
        "lasso = Lasso()\n",
        "lasso.fit(train_scaled, train_target)\n",
        "print(lasso.score(train_scaled, train_target))"
      ],
      "metadata": {
        "colab": {
          "base_uri": "https://localhost:8080/"
        },
        "id": "8zlYs_Iu_Oyx",
        "outputId": "e2c6fd6b-fac5-4a95-97e3-053908a41d22"
      },
      "execution_count": null,
      "outputs": [
        {
          "output_type": "stream",
          "name": "stdout",
          "text": [
            "0.989789897208096\n"
          ]
        }
      ]
    },
    {
      "cell_type": "code",
      "source": [
        "print(lasso.score(test_scaled, test_target))"
      ],
      "metadata": {
        "colab": {
          "base_uri": "https://localhost:8080/"
        },
        "id": "xGRezbHg_Z1a",
        "outputId": "c9eae42b-1b7c-43f3-d6db-45df0c538997"
      },
      "execution_count": null,
      "outputs": [
        {
          "output_type": "stream",
          "name": "stdout",
          "text": [
            "0.9800593698421883\n"
          ]
        }
      ]
    },
    {
      "cell_type": "code",
      "source": [
        "train_score = []\n",
        "test_score = []\n",
        "\n",
        "alpha_list = [0.001, 0.01, 0.1, 1, 10, 100]\n",
        "for alpha in alpha_list:\n",
        "    # 라쏘 모델 생성\n",
        "    lasso = Lasso(alpha=alpha)\n",
        "\n",
        "    # 라쏘 모델 훈련\n",
        "    lasso.fit(train_scaled, train_target)\n",
        "    \n",
        "    # 훈련 점수, 테스트 점수 저장\n",
        "    train_score.append(lasso.score(train_scaled, train_target))\n",
        "    test_score.append(lasso.score(test_scaled, test_target))"
      ],
      "metadata": {
        "colab": {
          "base_uri": "https://localhost:8080/"
        },
        "id": "7F4VOhwY6th6",
        "outputId": "2e3842ed-d2f6-46c0-d674-5ed88bde141e"
      },
      "execution_count": null,
      "outputs": [
        {
          "output_type": "stream",
          "name": "stderr",
          "text": [
            "/usr/local/lib/python3.7/dist-packages/sklearn/linear_model/_coordinate_descent.py:648: ConvergenceWarning: Objective did not converge. You might want to increase the number of iterations, check the scale of the features or consider increasing regularisation. Duality gap: 2.336e+04, tolerance: 5.183e+02\n",
            "  coef_, l1_reg, l2_reg, X, y, max_iter, tol, rng, random, positive\n",
            "/usr/local/lib/python3.7/dist-packages/sklearn/linear_model/_coordinate_descent.py:648: ConvergenceWarning: Objective did not converge. You might want to increase the number of iterations, check the scale of the features or consider increasing regularisation. Duality gap: 2.025e+04, tolerance: 5.183e+02\n",
            "  coef_, l1_reg, l2_reg, X, y, max_iter, tol, rng, random, positive\n",
            "/usr/local/lib/python3.7/dist-packages/sklearn/linear_model/_coordinate_descent.py:648: ConvergenceWarning: Objective did not converge. You might want to increase the number of iterations, check the scale of the features or consider increasing regularisation. Duality gap: 8.062e+02, tolerance: 5.183e+02\n",
            "  coef_, l1_reg, l2_reg, X, y, max_iter, tol, rng, random, positive\n"
          ]
        }
      ]
    },
    {
      "cell_type": "markdown",
      "source": [
        "warining이 뜨는 이유\n",
        "\n",
        "라쏘 모델은 최적의 계수를 찾기 위해 반복적인 계산을 수행하는데, 지정한 반복 횟수가 부족할 때 warning 발생. 반복 횟수를 충분히 늘리기 위해 max_iter 매개변수의 값을 10,000으로 지정하자."
      ],
      "metadata": {
        "id": "r-7-trkN_woP"
      }
    },
    {
      "cell_type": "code",
      "source": [
        "train_score = []\n",
        "test_score = []\n",
        "\n",
        "alpha_list = [0.001, 0.01, 0.1, 1, 10, 100]\n",
        "for alpha in alpha_list:\n",
        "    # 라쏘 모델 생성\n",
        "    lasso = Lasso(alpha=alpha, max_iter=100000)  # 10만으로 해보자\n",
        "\n",
        "    # 라쏘 모델 훈련\n",
        "    lasso.fit(train_scaled, train_target)\n",
        "    \n",
        "    # 훈련 점수, 테스트 점수 저장\n",
        "    train_score.append(lasso.score(train_scaled, train_target))\n",
        "    test_score.append(lasso.score(test_scaled, test_target))"
      ],
      "metadata": {
        "colab": {
          "base_uri": "https://localhost:8080/"
        },
        "id": "eeWTfwRY_rAh",
        "outputId": "ef879970-4378-4823-ed9d-bfbe28b2883b"
      },
      "execution_count": null,
      "outputs": [
        {
          "output_type": "stream",
          "name": "stderr",
          "text": [
            "/usr/local/lib/python3.7/dist-packages/sklearn/linear_model/_coordinate_descent.py:648: ConvergenceWarning: Objective did not converge. You might want to increase the number of iterations, check the scale of the features or consider increasing regularisation. Duality gap: 1.393e+04, tolerance: 5.183e+02\n",
            "  coef_, l1_reg, l2_reg, X, y, max_iter, tol, rng, random, positive\n",
            "/usr/local/lib/python3.7/dist-packages/sklearn/linear_model/_coordinate_descent.py:648: ConvergenceWarning: Objective did not converge. You might want to increase the number of iterations, check the scale of the features or consider increasing regularisation. Duality gap: 1.440e+03, tolerance: 5.183e+02\n",
            "  coef_, l1_reg, l2_reg, X, y, max_iter, tol, rng, random, positive\n"
          ]
        }
      ]
    },
    {
      "cell_type": "code",
      "source": [
        "plt.plot(np.log10(alpha_list), train_score)\n",
        "plt.plot(np.log10(alpha_list), test_score)\n",
        "plt.xlabel('alpha')\n",
        "plt.ylabel('R^2')\n",
        "plt.show()"
      ],
      "metadata": {
        "colab": {
          "base_uri": "https://localhost:8080/",
          "height": 279
        },
        "id": "0cEm9r1mAJfi",
        "outputId": "1c5215fb-cba9-4ed1-83da-cb6f5d6d989d"
      },
      "execution_count": null,
      "outputs": [
        {
          "output_type": "display_data",
          "data": {
            "image/png": "[encoded data removed]",
            "text/plain": [
              "<Figure size 432x288 with 1 Axes>"
            ]
          },
          "metadata": {
            "needs_background": "light"
          }
        }
      ]
    },
    {
      "cell_type": "markdown",
      "source": [
        "왼쪽은 과대적합, 오른쪽으로 갈 수록 점수 좁혀짐. 가장 오른쪽은 점수가 크게 떨어지므로, 분명 과소적합되는 모델.\n",
        "\n",
        "최적의 alpha는 10($10^{1} = 10$)."
      ],
      "metadata": {
        "id": "CqjY16NtAV2y"
      }
    },
    {
      "cell_type": "code",
      "source": [
        "lasso = Lasso(alpha=10)\n",
        "lasso.fit(train_scaled, train_target)\n",
        "print(lasso.score(train_scaled, train_target))\n",
        "print(lasso.score(test_scaled, test_target))"
      ],
      "metadata": {
        "colab": {
          "base_uri": "https://localhost:8080/"
        },
        "id": "wLjm28DWAQ6p",
        "outputId": "32bf4e18-922e-403c-8bdc-42bf8b0df280"
      },
      "execution_count": null,
      "outputs": [
        {
          "output_type": "stream",
          "name": "stdout",
          "text": [
            "0.9888067471131867\n",
            "0.9824470598706695\n"
          ]
        }
      ]
    },
    {
      "cell_type": "markdown",
      "source": [
        "결과: 특성을 많이 사용했지만, 릿지, 라쏘 모델이 과대적합을 잘 억제하고 test set의 성능을 크게 높임. \n",
        "\n",
        "\n",
        "그런데 라쏘 모델은 계수(기울기) 값을 아예 0으로 만들 수 있다고 앞서 언급한 바 있음. 라쏘 모델의 계수는 coef_ 속성에 저장되어 있음. 이 중 0인 것을 찾아보자."
      ],
      "metadata": {
        "id": "5_mki4FEAwXx"
      }
    },
    {
      "cell_type": "code",
      "source": [
        "lasso.coef_"
      ],
      "metadata": {
        "colab": {
          "base_uri": "https://localhost:8080/"
        },
        "id": "lhCAZNR6BAgC",
        "outputId": "d420e84e-b52a-4948-82d2-375c10bd8e7b"
      },
      "execution_count": null,
      "outputs": [
        {
          "output_type": "execute_result",
          "data": {
            "text/plain": [
              "array([ 0.        ,  0.        ,  0.        , 12.14852453, 55.44856399,\n",
              "       42.23100799,  0.        ,  0.        , 13.70596191,  0.        ,\n",
              "       43.2185952 ,  5.7033775 , 47.46254536,  7.42309425, 11.85823365,\n",
              "        0.        ,  0.        , 13.53038193, 21.22111356,  0.        ,\n",
              "        0.        ,  0.        ,  0.        ,  0.        ,  0.        ,\n",
              "       18.66993032,  0.        ,  0.        ,  0.        , 15.81041778,\n",
              "        0.        ,  0.        ,  0.        ,  0.        ,  0.        ,\n",
              "        0.        ,  0.        ,  0.        ,  0.        ,  0.        ,\n",
              "        0.        ,  0.        ,  0.        ,  0.        , 18.14672268,\n",
              "        0.        ,  0.        ,  0.        ,  0.        , 15.51272953,\n",
              "        0.        ,  0.        ,  0.        ,  0.        ,  0.        ])"
            ]
          },
          "metadata": {},
          "execution_count": 63
        }
      ]
    },
    {
      "cell_type": "code",
      "source": [
        "# np.sum()은 True를 1로, False를 0으로 인식. 따라서 비교 연산자에 맞는 원소 개수를 헤아리는 효과를 냄.\n",
        "np.sum(lasso.coef_ == 0)"
      ],
      "metadata": {
        "colab": {
          "base_uri": "https://localhost:8080/"
        },
        "id": "bL4mt1UsA8zh",
        "outputId": "a7f9d610-0ac7-4df2-a5d0-6143ca60bcf8"
      },
      "execution_count": null,
      "outputs": [
        {
          "output_type": "execute_result",
          "data": {
            "text/plain": [
              "40"
            ]
          },
          "metadata": {},
          "execution_count": 61
        }
      ]
    },
    {
      "cell_type": "markdown",
      "source": [
        "### 모델 과대적합 제어\n",
        "\n",
        "이렇게 선형 회귀 알고리즘을 사용해 생선의 무게를 예측하는 모델을 훈련시켰지만, train set에 과소적합되는 문제가 발생했었음. 이를 위해 생선의 길이뿐만 아니라, 높이, 두께도 특성으로 사용하여 다중 회귀 모델을 훈련시켰음.\n",
        "\n",
        "또한 가항 특성을 많이 추가해 train set에선 거의 완벽에 가까운 점수를 얻는 모델을 훈련함.\n",
        "\n",
        "특성을 많이 추가하면 선형 회귀는 당연히 매우 강력한 성능을 냄. 그러나 특성이 너무 많으면 선형 회귀 모델을 제약하기 위한 도구가 필요한데, 이 규제 방법으로 **릿지 회귀**와 **라쏘 회귀**에 대해 배워보았다.\n",
        "\n",
        "또한 릿지와 라쏘 모델의 규제 양을 조절하기 위해 최적의 alpha 값을 찾는 방법을 알아보았다."
      ],
      "metadata": {
        "id": "T6H-XziqBXEc"
      }
    },
    {
      "cell_type": "code",
      "source": [
        ""
      ],
      "metadata": {
        "id": "wzXU6Oh1E5eR"
      },
      "execution_count": null,
      "outputs": []
    },
    {
      "cell_type": "code",
      "source": [
        ""
      ],
      "metadata": {
        "id": "l7f4P-uPBzi5"
      },
      "execution_count": null,
      "outputs": []
    },
    {
      "cell_type": "code",
      "source": [
        ""
      ],
      "metadata": {
        "id": "nkFoFi4SA_vh"
      },
      "execution_count": null,
      "outputs": []
    },
    {
      "cell_type": "code",
      "source": [
        ""
      ],
      "metadata": {
        "id": "NlEgzsZcAsgZ"
      },
      "execution_count": null,
      "outputs": []
    },
    {
      "cell_type": "code",
      "source": [
        ""
      ],
      "metadata": {
        "id": "XxAaUCgWAGLi"
      },
      "execution_count": null,
      "outputs": []
    },
    {
      "cell_type": "code",
      "source": [
        ""
      ],
      "metadata": {
        "id": "KlxoduvnADlJ"
      },
      "execution_count": null,
      "outputs": []
    },
    {
      "cell_type": "code",
      "source": [
        ""
      ],
      "metadata": {
        "id": "6DgeLrlU5yCx"
      },
      "execution_count": null,
      "outputs": []
    },
    {
      "cell_type": "code",
      "source": [
        ""
      ],
      "metadata": {
        "id": "OvQItKvb5TpK"
      },
      "execution_count": null,
      "outputs": []
    },
    {
      "cell_type": "code",
      "source": [
        ""
      ],
      "metadata": {
        "id": "M_13YIxD5EbR"
      },
      "execution_count": null,
      "outputs": []
    },
    {
      "cell_type": "code",
      "source": [
        ""
      ],
      "metadata": {
        "id": "RWz_-HO442t7"
      },
      "execution_count": null,
      "outputs": []
    },
    {
      "cell_type": "code",
      "source": [
        ""
      ],
      "metadata": {
        "id": "OxvupekR4sFK"
      },
      "execution_count": null,
      "outputs": []
    },
    {
      "cell_type": "code",
      "source": [
        ""
      ],
      "metadata": {
        "id": "M0gilUfa4ZCq"
      },
      "execution_count": null,
      "outputs": []
    },
    {
      "cell_type": "code",
      "source": [
        ""
      ],
      "metadata": {
        "id": "2-Xqbzc64VhL"
      },
      "execution_count": null,
      "outputs": []
    },
    {
      "cell_type": "code",
      "source": [
        ""
      ],
      "metadata": {
        "id": "VVRLvvAc4UCb"
      },
      "execution_count": null,
      "outputs": []
    },
    {
      "cell_type": "code",
      "source": [
        ""
      ],
      "metadata": {
        "id": "WfOfFryn3vYK"
      },
      "execution_count": null,
      "outputs": []
    },
    {
      "cell_type": "code",
      "source": [
        ""
      ],
      "metadata": {
        "id": "VTagr-SA3tGq"
      },
      "execution_count": null,
      "outputs": []
    },
    {
      "cell_type": "code",
      "source": [
        ""
      ],
      "metadata": {
        "id": "XG4tetit3p06"
      },
      "execution_count": null,
      "outputs": []
    },
    {
      "cell_type": "code",
      "source": [
        ""
      ],
      "metadata": {
        "id": "a0w-MZgI2-Oy"
      },
      "execution_count": null,
      "outputs": []
    },
    {
      "cell_type": "code",
      "source": [
        ""
      ],
      "metadata": {
        "id": "j9AuhIGbt8ui"
      },
      "execution_count": null,
      "outputs": []
    },
    {
      "cell_type": "code",
      "source": [
        ""
      ],
      "metadata": {
        "id": "xfWYrKBCtMuc"
      },
      "execution_count": null,
      "outputs": []
    },
    {
      "cell_type": "code",
      "source": [
        ""
      ],
      "metadata": {
        "id": "7ahxxrV_rmaD"
      },
      "execution_count": null,
      "outputs": []
    },
    {
      "cell_type": "code",
      "source": [
        ""
      ],
      "metadata": {
        "id": "qi-EIk1nrDfB"
      },
      "execution_count": null,
      "outputs": []
    },
    {
      "cell_type": "code",
      "execution_count": null,
      "metadata": {
        "id": "APp7iaSoqyo0"
      },
      "outputs": [],
      "source": [
        ""
      ]
    }
  ]
}