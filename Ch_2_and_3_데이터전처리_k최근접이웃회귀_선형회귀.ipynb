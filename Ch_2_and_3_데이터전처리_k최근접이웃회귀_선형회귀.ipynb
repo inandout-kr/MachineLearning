{
  "nbformat": 4,
  "nbformat_minor": 0,
  "metadata": {
    "colab": {
      "name": "BreamAndSmelt",
      "provenance": [],
      "collapsed_sections": [],
      "toc_visible": true,
      "authorship_tag": "ABX9TyMD4nCy3KAvKQegnrPIaSkR",
      "include_colab_link": true
    },
    "kernelspec": {
      "name": "python3",
      "display_name": "Python 3"
    },
    "language_info": {
      "name": "python"
    }
  },
  "cells": [
    {
      "cell_type": "markdown",
      "metadata": {
        "id": "view-in-github",
        "colab_type": "text"
      },
      "source": [
        "<a href=\"https://colab.research.google.com/github/inandout-kr/MachineLearning/blob/main/Ch_2_and_3_%EB%8D%B0%EC%9D%B4%ED%84%B0%EC%A0%84%EC%B2%98%EB%A6%AC_k%EC%B5%9C%EA%B7%BC%EC%A0%91%EC%9D%B4%EC%9B%83%ED%9A%8C%EA%B7%80_%EC%84%A0%ED%98%95%ED%9A%8C%EA%B7%80.ipynb\" target=\"_parent\"><img src=\"https://colab.research.google.com/assets/colab-badge.svg\" alt=\"Open In Colab\"/></a>"
      ]
    },
    {
      "cell_type": "markdown",
      "source": [
        "# Chapter 2. 데이터 다루기"
      ],
      "metadata": {
        "id": "2T208qyBBPJN"
      }
    },
    {
      "cell_type": "markdown",
      "source": [
        "## 2.1 Train set과 Test set"
      ],
      "metadata": {
        "id": "5vFb6cLoBWfh"
      }
    },
    {
      "cell_type": "code",
      "execution_count": null,
      "metadata": {
        "id": "b1t4VrVnuXfX"
      },
      "outputs": [],
      "source": [
        "# 도미\n",
        "bream_length = [25.4, 26.3, 26.5, 29.0, 29.0, 29.7, 29.7, 30.0, 30.0, 30.7, 31.0, 31.0, \n",
        "                31.5, 32.0, 32.0, 32.0, 33.0, 33.0, 33.5, 33.5, 34.0, 34.0, 34.5, 35.0, \n",
        "                35.0, 35.0, 35.0, 36.0, 36.0, 37.0, 38.5, 38.5, 39.5, 41.0, 41.0]\n",
        "bream_weight = [242.0, 290.0, 340.0, 363.0, 430.0, 450.0, 500.0, 390.0, 450.0, 500.0, 475.0, 500.0, \n",
        "                500.0, 340.0, 600.0, 600.0, 700.0, 700.0, 610.0, 650.0, 575.0, 685.0, 620.0, 680.0, \n",
        "                700.0, 725.0, 720.0, 714.0, 850.0, 1000.0, 920.0, 955.0, 925.0, 975.0, 950.0]"
      ]
    },
    {
      "cell_type": "code",
      "source": [
        ""
      ],
      "metadata": {
        "id": "SRce-XvhMLI2"
      },
      "execution_count": null,
      "outputs": []
    },
    {
      "cell_type": "code",
      "source": [
        "# 빙어\n",
        "smelt_length = [9.8, 10.5, 10.6, 11.0, 11.2, 11.3, 11.8, 11.8, 12.0, 12.2, 12.4, 13.0, 14.3, 15.0]\n",
        "smelt_weight = [6.7, 7.5, 7.0, 9.7, 9.8, 8.7, 10.0, 9.9, 9.8, 12.2, 13.4, 12.2, 19.7, 19.9]"
      ],
      "metadata": {
        "id": "vvtgZmL9ylyA"
      },
      "execution_count": null,
      "outputs": []
    },
    {
      "cell_type": "code",
      "source": [
        "import matplotlib.pyplot as plt\n",
        "plt.scatter(bream_length, bream_weight)\n",
        "plt.scatter(smelt_length, smelt_weight)\n",
        "plt.xlabel('length')\n",
        "plt.ylabel('weight')\n",
        "plt.show()"
      ],
      "metadata": {
        "colab": {
          "base_uri": "https://localhost:8080/",
          "height": 279
        },
        "id": "W2fEhaHhyCAp",
        "outputId": "6de9cacb-014d-4de4-81c1-9b7ba1227ec3"
      },
      "execution_count": null,
      "outputs": [
        {
          "output_type": "display_data",
          "data": {
            "image/png": "[encoded data removed]",
            "text/plain": [
              "<Figure size 432x288 with 1 Axes>"
            ]
          },
          "metadata": {
            "needs_background": "light"
          }
        }
      ]
    },
    {
      "cell_type": "code",
      "source": [
        "length = bream_length + smelt_length\n",
        "weight = bream_weight + smelt_weight"
      ],
      "metadata": {
        "id": "OdxAzeSBynJ3"
      },
      "execution_count": null,
      "outputs": []
    },
    {
      "cell_type": "markdown",
      "source": [
        "### 2차원 리스트 생성"
      ],
      "metadata": {
        "id": "LGfOi8xnz5vc"
      }
    },
    {
      "cell_type": "code",
      "source": [
        "fish_data = [[l, w] for l, w in zip(length, weight)]"
      ],
      "metadata": {
        "id": "qCp9ZhNRym4C"
      },
      "execution_count": null,
      "outputs": []
    },
    {
      "cell_type": "code",
      "source": [
        "\n",
        "fish_data"
      ],
      "metadata": {
        "colab": {
          "base_uri": "https://localhost:8080/"
        },
        "id": "mu-QOkspyeDo",
        "outputId": "fa2d7d50-003f-49e4-8c49-539a001045ea"
      },
      "execution_count": null,
      "outputs": [
        {
          "output_type": "execute_result",
          "data": {
            "text/plain": [
              "[[25.4, 242.0],\n",
              " [26.3, 290.0],\n",
              " [26.5, 340.0],\n",
              " [29.0, 363.0],\n",
              " [29.0, 430.0],\n",
              " [29.7, 450.0],\n",
              " [29.7, 500.0],\n",
              " [30.0, 390.0],\n",
              " [30.0, 450.0],\n",
              " [30.7, 500.0],\n",
              " [31.0, 475.0],\n",
              " [31.0, 500.0],\n",
              " [31.5, 500.0],\n",
              " [32.0, 340.0],\n",
              " [32.0, 600.0],\n",
              " [32.0, 600.0],\n",
              " [33.0, 700.0],\n",
              " [33.0, 700.0],\n",
              " [33.5, 610.0],\n",
              " [33.5, 650.0],\n",
              " [34.0, 575.0],\n",
              " [34.0, 685.0],\n",
              " [34.5, 620.0],\n",
              " [35.0, 680.0],\n",
              " [35.0, 700.0],\n",
              " [35.0, 725.0],\n",
              " [35.0, 720.0],\n",
              " [36.0, 714.0],\n",
              " [36.0, 850.0],\n",
              " [37.0, 1000.0],\n",
              " [38.5, 920.0],\n",
              " [38.5, 955.0],\n",
              " [39.5, 925.0],\n",
              " [41.0, 975.0],\n",
              " [41.0, 950.0],\n",
              " [9.8, 6.7],\n",
              " [10.5, 7.5],\n",
              " [10.6, 7.0],\n",
              " [11.0, 9.7],\n",
              " [11.2, 9.8],\n",
              " [11.3, 8.7],\n",
              " [11.8, 10.0],\n",
              " [11.8, 9.9],\n",
              " [12.0, 9.8],\n",
              " [12.2, 12.2],\n",
              " [12.4, 13.4],\n",
              " [13.0, 12.2],\n",
              " [14.3, 19.7],\n",
              " [15.0, 19.9]]"
            ]
          },
          "metadata": {},
          "execution_count": 120
        }
      ]
    },
    {
      "cell_type": "code",
      "source": [
        "fish_target = [1] * 35 + [0] * 14\n",
        "fish_target"
      ],
      "metadata": {
        "colab": {
          "base_uri": "https://localhost:8080/"
        },
        "id": "uZIMHm9Ezq-R",
        "outputId": "0cc9b899-4b54-4963-964f-aa35b6f7e7a1"
      },
      "execution_count": null,
      "outputs": [
        {
          "output_type": "execute_result",
          "data": {
            "text/plain": [
              "[1,\n",
              " 1,\n",
              " 1,\n",
              " 1,\n",
              " 1,\n",
              " 1,\n",
              " 1,\n",
              " 1,\n",
              " 1,\n",
              " 1,\n",
              " 1,\n",
              " 1,\n",
              " 1,\n",
              " 1,\n",
              " 1,\n",
              " 1,\n",
              " 1,\n",
              " 1,\n",
              " 1,\n",
              " 1,\n",
              " 1,\n",
              " 1,\n",
              " 1,\n",
              " 1,\n",
              " 1,\n",
              " 1,\n",
              " 1,\n",
              " 1,\n",
              " 1,\n",
              " 1,\n",
              " 1,\n",
              " 1,\n",
              " 1,\n",
              " 1,\n",
              " 1,\n",
              " 0,\n",
              " 0,\n",
              " 0,\n",
              " 0,\n",
              " 0,\n",
              " 0,\n",
              " 0,\n",
              " 0,\n",
              " 0,\n",
              " 0,\n",
              " 0,\n",
              " 0,\n",
              " 0,\n",
              " 0]"
            ]
          },
          "metadata": {},
          "execution_count": 121
        }
      ]
    },
    {
      "cell_type": "markdown",
      "source": [
        "### k-Nearest Neighbors"
      ],
      "metadata": {
        "id": "nM0ln9pS0R1q"
      }
    },
    {
      "cell_type": "code",
      "source": [
        "from sklearn.neighbors import KNeighborsClassifier"
      ],
      "metadata": {
        "id": "yNka7T7H0LCx"
      },
      "execution_count": null,
      "outputs": []
    },
    {
      "cell_type": "code",
      "source": [
        "kn = KNeighborsClassifier()"
      ],
      "metadata": {
        "id": "Gdnk4Bs80bY4"
      },
      "execution_count": null,
      "outputs": []
    },
    {
      "cell_type": "code",
      "source": [
        "kn.fit(fish_data, fish_target)"
      ],
      "metadata": {
        "colab": {
          "base_uri": "https://localhost:8080/"
        },
        "id": "eu2s6Z5t0oRR",
        "outputId": "56c15a76-e63e-4a67-f89d-92825dd9ffdd"
      },
      "execution_count": null,
      "outputs": [
        {
          "output_type": "execute_result",
          "data": {
            "text/plain": [
              "KNeighborsClassifier()"
            ]
          },
          "metadata": {},
          "execution_count": 124
        }
      ]
    },
    {
      "cell_type": "code",
      "source": [
        "kn.score(fish_data, fish_target)"
      ],
      "metadata": {
        "colab": {
          "base_uri": "https://localhost:8080/"
        },
        "id": "vEVMM1wh0wHB",
        "outputId": "16e74b64-3511-4318-fd62-e1deec193894"
      },
      "execution_count": null,
      "outputs": [
        {
          "output_type": "execute_result",
          "data": {
            "text/plain": [
              "1.0"
            ]
          },
          "metadata": {},
          "execution_count": 125
        }
      ]
    },
    {
      "cell_type": "markdown",
      "source": [
        "length = 30, weight = 600인 생선 예측"
      ],
      "metadata": {
        "id": "ugKvNCgy1Lp4"
      }
    },
    {
      "cell_type": "code",
      "source": [
        "kn.predict([[30,600]])"
      ],
      "metadata": {
        "colab": {
          "base_uri": "https://localhost:8080/"
        },
        "id": "AI_WeVjI03E5",
        "outputId": "bad9cd91-33c4-41aa-cbf0-8b41256ee689"
      },
      "execution_count": null,
      "outputs": [
        {
          "output_type": "execute_result",
          "data": {
            "text/plain": [
              "array([1])"
            ]
          },
          "metadata": {},
          "execution_count": 126
        }
      ]
    },
    {
      "cell_type": "code",
      "source": [
        "kn.predict([[30,60]])"
      ],
      "metadata": {
        "colab": {
          "base_uri": "https://localhost:8080/"
        },
        "id": "S0lnBo_B1EiB",
        "outputId": "f2bff725-060c-4b2f-b630-6a1e4c29bbb8"
      },
      "execution_count": null,
      "outputs": [
        {
          "output_type": "execute_result",
          "data": {
            "text/plain": [
              "array([0])"
            ]
          },
          "metadata": {},
          "execution_count": 127
        }
      ]
    },
    {
      "cell_type": "code",
      "source": [
        "kn.predict([[3,600]])"
      ],
      "metadata": {
        "colab": {
          "base_uri": "https://localhost:8080/"
        },
        "id": "Z8TOJWkD1QnB",
        "outputId": "fe54549d-fce2-49f3-b41d-13c6924beacb"
      },
      "execution_count": null,
      "outputs": [
        {
          "output_type": "execute_result",
          "data": {
            "text/plain": [
              "array([1])"
            ]
          },
          "metadata": {},
          "execution_count": 128
        }
      ]
    },
    {
      "cell_type": "markdown",
      "source": [
        "k-Nearest Neighbors는 가까운 데이터를 참고해 구분.\n",
        "- 몇 개의 데이터를 참고할까?\n",
        "  - default = 5개\n",
        "  - 파라미터 변경 가능"
      ],
      "metadata": {
        "id": "e-mQusAq2CzH"
      }
    },
    {
      "cell_type": "code",
      "source": [
        "kn49 = KNeighborsClassifier(n_neighbors=49)"
      ],
      "metadata": {
        "id": "lgzAb_Ix1Yoa"
      },
      "execution_count": null,
      "outputs": []
    },
    {
      "cell_type": "code",
      "source": [
        "kn49.fit(fish_data, fish_target)\n",
        "kn49.score(fish_data, fish_target)"
      ],
      "metadata": {
        "colab": {
          "base_uri": "https://localhost:8080/"
        },
        "id": "jJvl_YXY2hUJ",
        "outputId": "5b7dbe1c-a216-4698-ce55-621677231156"
      },
      "execution_count": null,
      "outputs": [
        {
          "output_type": "execute_result",
          "data": {
            "text/plain": [
              "0.7142857142857143"
            ]
          },
          "metadata": {},
          "execution_count": 130
        }
      ]
    },
    {
      "cell_type": "code",
      "source": [
        "print(35/49)"
      ],
      "metadata": {
        "colab": {
          "base_uri": "https://localhost:8080/"
        },
        "id": "7sAW-p_m2kSJ",
        "outputId": "426046ec-43ad-4b55-dc50-7dc91a75db81"
      },
      "execution_count": null,
      "outputs": [
        {
          "output_type": "stream",
          "name": "stdout",
          "text": [
            "0.7142857142857143\n"
          ]
        }
      ]
    },
    {
      "cell_type": "markdown",
      "source": [
        "- 어떤 데이터를 넣어도 무조건 도미로 예측 \n",
        "- 도미만 올바르게 맞추므로 score는 $35/49 = 0.71..$"
      ],
      "metadata": {
        "id": "WSMfSuSl2xiX"
      }
    },
    {
      "cell_type": "code",
      "source": [
        "kn = KNeighborsClassifier()\n",
        "kn.fit(fish_data, fish_target)\n",
        "\n",
        "for n in range(5, 50):\n",
        "  kn.n_neighbors = n\n",
        "  score = kn.score(fish_data, fish_target)\n",
        "  if score < 1:\n",
        "    print(f\"n_neighbors: {n}\\nscore: {score}\")\n",
        "    break"
      ],
      "metadata": {
        "colab": {
          "base_uri": "https://localhost:8080/"
        },
        "id": "5qqKTC9W2tKA",
        "outputId": "36628403-d0aa-46ef-fb98-9d57c610ced8"
      },
      "execution_count": null,
      "outputs": [
        {
          "output_type": "stream",
          "name": "stdout",
          "text": [
            "n_neighbors: 18\n",
            "score: 0.9795918367346939\n"
          ]
        }
      ]
    },
    {
      "cell_type": "code",
      "source": [
        "fish_length"
      ],
      "metadata": {
        "id": "3x2urBkU5KNp",
        "colab": {
          "base_uri": "https://localhost:8080/"
        },
        "outputId": "971284bd-617b-4299-f017-d2eb916f5bd4"
      },
      "execution_count": null,
      "outputs": [
        {
          "output_type": "execute_result",
          "data": {
            "text/plain": [
              "[25.4,\n",
              " 26.3,\n",
              " 26.5,\n",
              " 29.0,\n",
              " 29.0,\n",
              " 29.7,\n",
              " 29.7,\n",
              " 30.0,\n",
              " 30.0,\n",
              " 30.7,\n",
              " 31.0,\n",
              " 31.0,\n",
              " 31.5,\n",
              " 32.0,\n",
              " 32.0,\n",
              " 32.0,\n",
              " 33.0,\n",
              " 33.0,\n",
              " 33.5,\n",
              " 33.5,\n",
              " 34.0,\n",
              " 34.0,\n",
              " 34.5,\n",
              " 35.0,\n",
              " 35.0,\n",
              " 35.0,\n",
              " 35.0,\n",
              " 36.0,\n",
              " 36.0,\n",
              " 37.0,\n",
              " 38.5,\n",
              " 38.5,\n",
              " 39.5,\n",
              " 41.0,\n",
              " 41.0,\n",
              " 9.8,\n",
              " 10.5,\n",
              " 10.6,\n",
              " 11.0,\n",
              " 11.2,\n",
              " 11.3,\n",
              " 11.8,\n",
              " 11.8,\n",
              " 12.0,\n",
              " 12.2,\n",
              " 12.4,\n",
              " 13.0,\n",
              " 14.3,\n",
              " 15.0]"
            ]
          },
          "metadata": {},
          "execution_count": 133
        }
      ]
    },
    {
      "cell_type": "code",
      "source": [
        ""
      ],
      "metadata": {
        "id": "EBQ1JcFoMEIN"
      },
      "execution_count": null,
      "outputs": []
    },
    {
      "cell_type": "markdown",
      "source": [
        "## 2.2 데이터 전처리"
      ],
      "metadata": {
        "id": "uuPGe3X0MQZj"
      }
    },
    {
      "cell_type": "code",
      "source": [
        "# 도미\n",
        "bream_length = [25.4, 26.3, 26.5, 29.0, 29.0, 29.7, 29.7, 30.0, 30.0, 30.7, 31.0, 31.0, \n",
        "                31.5, 32.0, 32.0, 32.0, 33.0, 33.0, 33.5, 33.5, 34.0, 34.0, 34.5, 35.0, \n",
        "                35.0, 35.0, 35.0, 36.0, 36.0, 37.0, 38.5, 38.5, 39.5, 41.0, 41.0]\n",
        "bream_weight = [242.0, 290.0, 340.0, 363.0, 430.0, 450.0, 500.0, 390.0, 450.0, 500.0, 475.0, 500.0, \n",
        "                500.0, 340.0, 600.0, 600.0, 700.0, 700.0, 610.0, 650.0, 575.0, 685.0, 620.0, 680.0, \n",
        "                700.0, 725.0, 720.0, 714.0, 850.0, 1000.0, 920.0, 955.0, 925.0, 975.0, 950.0]\n",
        "\n",
        "# 빙어\n",
        "smelt_length = [9.8, 10.5, 10.6, 11.0, 11.2, 11.3, 11.8, 11.8, 12.0, 12.2, 12.4, 13.0, 14.3, 15.0]\n",
        "smelt_weight = [6.7, 7.5, 7.0, 9.7, 9.8, 8.7, 10.0, 9.9, 9.8, 12.2, 13.4, 12.2, 19.7, 19.9]"
      ],
      "metadata": {
        "id": "yezGyYzEMSI-"
      },
      "execution_count": null,
      "outputs": []
    },
    {
      "cell_type": "code",
      "source": [
        "fl = bream_length + bream_length"
      ],
      "metadata": {
        "id": "WxnfZQ3sMlnC"
      },
      "execution_count": null,
      "outputs": []
    },
    {
      "cell_type": "code",
      "source": [
        "fw = bream_weight + smelt_weight"
      ],
      "metadata": {
        "id": "Y2AdtpPlMWYp"
      },
      "execution_count": null,
      "outputs": []
    },
    {
      "cell_type": "code",
      "source": [
        "fish_data = [[l, w] for l, w in zip(fl, fw)]\n",
        "fish_target = [1] * 35 + [0] * 14"
      ],
      "metadata": {
        "id": "MYAcZHgfMWbm"
      },
      "execution_count": null,
      "outputs": []
    },
    {
      "cell_type": "code",
      "source": [
        "fish_target"
      ],
      "metadata": {
        "colab": {
          "base_uri": "https://localhost:8080/"
        },
        "id": "ezdEG3F9M9Tx",
        "outputId": "c7b4821c-984b-4a2c-ce56-80cc0446598a"
      },
      "execution_count": null,
      "outputs": [
        {
          "output_type": "execute_result",
          "data": {
            "text/plain": [
              "[1,\n",
              " 1,\n",
              " 1,\n",
              " 1,\n",
              " 1,\n",
              " 1,\n",
              " 1,\n",
              " 1,\n",
              " 1,\n",
              " 1,\n",
              " 1,\n",
              " 1,\n",
              " 1,\n",
              " 1,\n",
              " 1,\n",
              " 1,\n",
              " 1,\n",
              " 1,\n",
              " 1,\n",
              " 1,\n",
              " 1,\n",
              " 1,\n",
              " 1,\n",
              " 1,\n",
              " 1,\n",
              " 1,\n",
              " 1,\n",
              " 1,\n",
              " 1,\n",
              " 1,\n",
              " 1,\n",
              " 1,\n",
              " 1,\n",
              " 1,\n",
              " 1,\n",
              " 0,\n",
              " 0,\n",
              " 0,\n",
              " 0,\n",
              " 0,\n",
              " 0,\n",
              " 0,\n",
              " 0,\n",
              " 0,\n",
              " 0,\n",
              " 0,\n",
              " 0,\n",
              " 0,\n",
              " 0]"
            ]
          },
          "metadata": {},
          "execution_count": 138
        }
      ]
    },
    {
      "cell_type": "code",
      "source": [
        "fish_data"
      ],
      "metadata": {
        "colab": {
          "base_uri": "https://localhost:8080/"
        },
        "id": "vbsK6Bv4MWVs",
        "outputId": "7b9a57a9-9211-4419-97af-e8a96759aec8"
      },
      "execution_count": null,
      "outputs": [
        {
          "output_type": "execute_result",
          "data": {
            "text/plain": [
              "[[25.4, 242.0],\n",
              " [26.3, 290.0],\n",
              " [26.5, 340.0],\n",
              " [29.0, 363.0],\n",
              " [29.0, 430.0],\n",
              " [29.7, 450.0],\n",
              " [29.7, 500.0],\n",
              " [30.0, 390.0],\n",
              " [30.0, 450.0],\n",
              " [30.7, 500.0],\n",
              " [31.0, 475.0],\n",
              " [31.0, 500.0],\n",
              " [31.5, 500.0],\n",
              " [32.0, 340.0],\n",
              " [32.0, 600.0],\n",
              " [32.0, 600.0],\n",
              " [33.0, 700.0],\n",
              " [33.0, 700.0],\n",
              " [33.5, 610.0],\n",
              " [33.5, 650.0],\n",
              " [34.0, 575.0],\n",
              " [34.0, 685.0],\n",
              " [34.5, 620.0],\n",
              " [35.0, 680.0],\n",
              " [35.0, 700.0],\n",
              " [35.0, 725.0],\n",
              " [35.0, 720.0],\n",
              " [36.0, 714.0],\n",
              " [36.0, 850.0],\n",
              " [37.0, 1000.0],\n",
              " [38.5, 920.0],\n",
              " [38.5, 955.0],\n",
              " [39.5, 925.0],\n",
              " [41.0, 975.0],\n",
              " [41.0, 950.0],\n",
              " [25.4, 6.7],\n",
              " [26.3, 7.5],\n",
              " [26.5, 7.0],\n",
              " [29.0, 9.7],\n",
              " [29.0, 9.8],\n",
              " [29.7, 8.7],\n",
              " [29.7, 10.0],\n",
              " [30.0, 9.9],\n",
              " [30.0, 9.8],\n",
              " [30.7, 12.2],\n",
              " [31.0, 13.4],\n",
              " [31.0, 12.2],\n",
              " [31.5, 19.7],\n",
              " [32.0, 19.9]]"
            ]
          },
          "metadata": {},
          "execution_count": 139
        }
      ]
    },
    {
      "cell_type": "code",
      "source": [
        "from sklearn.neighbors import KNeighborsClassifier\n",
        "kn = KNeighborsClassifier()"
      ],
      "metadata": {
        "id": "6WmBnxCyMWSj"
      },
      "execution_count": null,
      "outputs": []
    },
    {
      "cell_type": "code",
      "source": [
        "print(fish_data[4])"
      ],
      "metadata": {
        "colab": {
          "base_uri": "https://localhost:8080/"
        },
        "id": "UkgIMz7jMWPy",
        "outputId": "8378bc06-9dde-40b2-ecbc-9e4793f264d0"
      },
      "execution_count": null,
      "outputs": [
        {
          "output_type": "stream",
          "name": "stdout",
          "text": [
            "[29.0, 430.0]\n"
          ]
        }
      ]
    },
    {
      "cell_type": "code",
      "source": [
        "train_input = fish_data[:35]\n",
        "train_target = fish_target[:35]\n",
        "test_input = fish_data[35:]\n",
        "test_target = fish_target[35:]"
      ],
      "metadata": {
        "id": "8mHEq11bMWLO"
      },
      "execution_count": null,
      "outputs": []
    },
    {
      "cell_type": "code",
      "source": [
        "kn = kn.fit(train_input, train_target)"
      ],
      "metadata": {
        "id": "T95qziskMWJB"
      },
      "execution_count": null,
      "outputs": []
    },
    {
      "cell_type": "code",
      "source": [
        "kn.score(test_input, test_target)"
      ],
      "metadata": {
        "colab": {
          "base_uri": "https://localhost:8080/"
        },
        "id": "rDj-Bq4QMWGm",
        "outputId": "5aaa2021-2875-4ba6-b84a-ceaf8fa8f41b"
      },
      "execution_count": null,
      "outputs": [
        {
          "output_type": "execute_result",
          "data": {
            "text/plain": [
              "0.0"
            ]
          },
          "metadata": {},
          "execution_count": 144
        }
      ]
    },
    {
      "cell_type": "code",
      "source": [
        "import numpy as np"
      ],
      "metadata": {
        "id": "0ZnMwnQMMWEZ"
      },
      "execution_count": null,
      "outputs": []
    },
    {
      "cell_type": "code",
      "source": [
        "input_arr = np.array(fish_data)\n",
        "target_arr = np.array(fish_target)"
      ],
      "metadata": {
        "id": "gYpco18tMWBM"
      },
      "execution_count": null,
      "outputs": []
    },
    {
      "cell_type": "code",
      "source": [
        "print(input_arr)\n",
        "print(target_arr)"
      ],
      "metadata": {
        "colab": {
          "base_uri": "https://localhost:8080/"
        },
        "id": "0DRMhxEvPIA1",
        "outputId": "7c34b9c5-cd84-4cc3-db30-07d606a15990"
      },
      "execution_count": null,
      "outputs": [
        {
          "output_type": "stream",
          "name": "stdout",
          "text": [
            "[[  25.4  242. ]\n",
            " [  26.3  290. ]\n",
            " [  26.5  340. ]\n",
            " [  29.   363. ]\n",
            " [  29.   430. ]\n",
            " [  29.7  450. ]\n",
            " [  29.7  500. ]\n",
            " [  30.   390. ]\n",
            " [  30.   450. ]\n",
            " [  30.7  500. ]\n",
            " [  31.   475. ]\n",
            " [  31.   500. ]\n",
            " [  31.5  500. ]\n",
            " [  32.   340. ]\n",
            " [  32.   600. ]\n",
            " [  32.   600. ]\n",
            " [  33.   700. ]\n",
            " [  33.   700. ]\n",
            " [  33.5  610. ]\n",
            " [  33.5  650. ]\n",
            " [  34.   575. ]\n",
            " [  34.   685. ]\n",
            " [  34.5  620. ]\n",
            " [  35.   680. ]\n",
            " [  35.   700. ]\n",
            " [  35.   725. ]\n",
            " [  35.   720. ]\n",
            " [  36.   714. ]\n",
            " [  36.   850. ]\n",
            " [  37.  1000. ]\n",
            " [  38.5  920. ]\n",
            " [  38.5  955. ]\n",
            " [  39.5  925. ]\n",
            " [  41.   975. ]\n",
            " [  41.   950. ]\n",
            " [  25.4    6.7]\n",
            " [  26.3    7.5]\n",
            " [  26.5    7. ]\n",
            " [  29.     9.7]\n",
            " [  29.     9.8]\n",
            " [  29.7    8.7]\n",
            " [  29.7   10. ]\n",
            " [  30.     9.9]\n",
            " [  30.     9.8]\n",
            " [  30.7   12.2]\n",
            " [  31.    13.4]\n",
            " [  31.    12.2]\n",
            " [  31.5   19.7]\n",
            " [  32.    19.9]]\n",
            "[1 1 1 1 1 1 1 1 1 1 1 1 1 1 1 1 1 1 1 1 1 1 1 1 1 1 1 1 1 1 1 1 1 1 1 0 0\n",
            " 0 0 0 0 0 0 0 0 0 0 0 0]\n"
          ]
        }
      ]
    },
    {
      "cell_type": "code",
      "source": [
        "fish_data"
      ],
      "metadata": {
        "colab": {
          "base_uri": "https://localhost:8080/"
        },
        "id": "vxvhEIc4OyhA",
        "outputId": "b4ef2347-c1f8-42ba-c8e1-da96e2d22406"
      },
      "execution_count": null,
      "outputs": [
        {
          "output_type": "execute_result",
          "data": {
            "text/plain": [
              "[[25.4, 242.0],\n",
              " [26.3, 290.0],\n",
              " [26.5, 340.0],\n",
              " [29.0, 363.0],\n",
              " [29.0, 430.0],\n",
              " [29.7, 450.0],\n",
              " [29.7, 500.0],\n",
              " [30.0, 390.0],\n",
              " [30.0, 450.0],\n",
              " [30.7, 500.0],\n",
              " [31.0, 475.0],\n",
              " [31.0, 500.0],\n",
              " [31.5, 500.0],\n",
              " [32.0, 340.0],\n",
              " [32.0, 600.0],\n",
              " [32.0, 600.0],\n",
              " [33.0, 700.0],\n",
              " [33.0, 700.0],\n",
              " [33.5, 610.0],\n",
              " [33.5, 650.0],\n",
              " [34.0, 575.0],\n",
              " [34.0, 685.0],\n",
              " [34.5, 620.0],\n",
              " [35.0, 680.0],\n",
              " [35.0, 700.0],\n",
              " [35.0, 725.0],\n",
              " [35.0, 720.0],\n",
              " [36.0, 714.0],\n",
              " [36.0, 850.0],\n",
              " [37.0, 1000.0],\n",
              " [38.5, 920.0],\n",
              " [38.5, 955.0],\n",
              " [39.5, 925.0],\n",
              " [41.0, 975.0],\n",
              " [41.0, 950.0],\n",
              " [25.4, 6.7],\n",
              " [26.3, 7.5],\n",
              " [26.5, 7.0],\n",
              " [29.0, 9.7],\n",
              " [29.0, 9.8],\n",
              " [29.7, 8.7],\n",
              " [29.7, 10.0],\n",
              " [30.0, 9.9],\n",
              " [30.0, 9.8],\n",
              " [30.7, 12.2],\n",
              " [31.0, 13.4],\n",
              " [31.0, 12.2],\n",
              " [31.5, 19.7],\n",
              " [32.0, 19.9]]"
            ]
          },
          "metadata": {},
          "execution_count": 148
        }
      ]
    },
    {
      "cell_type": "code",
      "source": [
        "input_arr"
      ],
      "metadata": {
        "colab": {
          "base_uri": "https://localhost:8080/"
        },
        "id": "6dwR70gAOy0c",
        "outputId": "0eebb21f-a915-4b41-8346-366254c0ad57"
      },
      "execution_count": null,
      "outputs": [
        {
          "output_type": "execute_result",
          "data": {
            "text/plain": [
              "array([[  25.4,  242. ],\n",
              "       [  26.3,  290. ],\n",
              "       [  26.5,  340. ],\n",
              "       [  29. ,  363. ],\n",
              "       [  29. ,  430. ],\n",
              "       [  29.7,  450. ],\n",
              "       [  29.7,  500. ],\n",
              "       [  30. ,  390. ],\n",
              "       [  30. ,  450. ],\n",
              "       [  30.7,  500. ],\n",
              "       [  31. ,  475. ],\n",
              "       [  31. ,  500. ],\n",
              "       [  31.5,  500. ],\n",
              "       [  32. ,  340. ],\n",
              "       [  32. ,  600. ],\n",
              "       [  32. ,  600. ],\n",
              "       [  33. ,  700. ],\n",
              "       [  33. ,  700. ],\n",
              "       [  33.5,  610. ],\n",
              "       [  33.5,  650. ],\n",
              "       [  34. ,  575. ],\n",
              "       [  34. ,  685. ],\n",
              "       [  34.5,  620. ],\n",
              "       [  35. ,  680. ],\n",
              "       [  35. ,  700. ],\n",
              "       [  35. ,  725. ],\n",
              "       [  35. ,  720. ],\n",
              "       [  36. ,  714. ],\n",
              "       [  36. ,  850. ],\n",
              "       [  37. , 1000. ],\n",
              "       [  38.5,  920. ],\n",
              "       [  38.5,  955. ],\n",
              "       [  39.5,  925. ],\n",
              "       [  41. ,  975. ],\n",
              "       [  41. ,  950. ],\n",
              "       [  25.4,    6.7],\n",
              "       [  26.3,    7.5],\n",
              "       [  26.5,    7. ],\n",
              "       [  29. ,    9.7],\n",
              "       [  29. ,    9.8],\n",
              "       [  29.7,    8.7],\n",
              "       [  29.7,   10. ],\n",
              "       [  30. ,    9.9],\n",
              "       [  30. ,    9.8],\n",
              "       [  30.7,   12.2],\n",
              "       [  31. ,   13.4],\n",
              "       [  31. ,   12.2],\n",
              "       [  31.5,   19.7],\n",
              "       [  32. ,   19.9]])"
            ]
          },
          "metadata": {},
          "execution_count": 149
        }
      ]
    },
    {
      "cell_type": "code",
      "source": [
        "input_arr.shape"
      ],
      "metadata": {
        "colab": {
          "base_uri": "https://localhost:8080/"
        },
        "id": "fx_c-jqNPQpX",
        "outputId": "f2bcffa8-e533-487b-d422-0daac54160fb"
      },
      "execution_count": null,
      "outputs": [
        {
          "output_type": "execute_result",
          "data": {
            "text/plain": [
              "(49, 2)"
            ]
          },
          "metadata": {},
          "execution_count": 150
        }
      ]
    },
    {
      "cell_type": "code",
      "source": [
        "np.random.seed(42)\n",
        "index = np.arange(49)\n",
        "np.random.shuffle(index)"
      ],
      "metadata": {
        "id": "pbuQpjiZPgVr"
      },
      "execution_count": null,
      "outputs": []
    },
    {
      "cell_type": "code",
      "source": [
        "index"
      ],
      "metadata": {
        "colab": {
          "base_uri": "https://localhost:8080/"
        },
        "id": "CXgBoZlcP2lh",
        "outputId": "f2f65c0d-d5da-41ec-9769-94354b8943d4"
      },
      "execution_count": null,
      "outputs": [
        {
          "output_type": "execute_result",
          "data": {
            "text/plain": [
              "array([13, 45, 47, 44, 17, 27, 26, 25, 31, 19, 12,  4, 34,  8,  3,  6, 40,\n",
              "       41, 46, 15,  9, 16, 24, 33, 30,  0, 43, 32,  5, 29, 11, 36,  1, 21,\n",
              "        2, 37, 35, 23, 39, 10, 22, 18, 48, 20,  7, 42, 14, 28, 38])"
            ]
          },
          "metadata": {},
          "execution_count": 152
        }
      ]
    },
    {
      "cell_type": "code",
      "source": [
        "input_arr[[1,3]]"
      ],
      "metadata": {
        "colab": {
          "base_uri": "https://localhost:8080/"
        },
        "id": "UjP8OYFIP3xB",
        "outputId": "89977e92-160c-49ad-f543-baf61165f941"
      },
      "execution_count": null,
      "outputs": [
        {
          "output_type": "execute_result",
          "data": {
            "text/plain": [
              "array([[ 26.3, 290. ],\n",
              "       [ 29. , 363. ]])"
            ]
          },
          "metadata": {},
          "execution_count": 153
        }
      ]
    },
    {
      "cell_type": "code",
      "source": [
        "train_input = input_arr[index[:35]]\n",
        "train_target = target_arr[index[:35]]"
      ],
      "metadata": {
        "id": "E1GjC3Z1MV81"
      },
      "execution_count": null,
      "outputs": []
    },
    {
      "cell_type": "code",
      "source": [
        "train_input"
      ],
      "metadata": {
        "colab": {
          "base_uri": "https://localhost:8080/"
        },
        "id": "vCYqGSceQI-M",
        "outputId": "ca745de3-1f3d-4a6a-8dcc-ec3dc52eef5b"
      },
      "execution_count": null,
      "outputs": [
        {
          "output_type": "execute_result",
          "data": {
            "text/plain": [
              "array([[  32. ,  340. ],\n",
              "       [  31. ,   13.4],\n",
              "       [  31.5,   19.7],\n",
              "       [  30.7,   12.2],\n",
              "       [  33. ,  700. ],\n",
              "       [  36. ,  714. ],\n",
              "       [  35. ,  720. ],\n",
              "       [  35. ,  725. ],\n",
              "       [  38.5,  955. ],\n",
              "       [  33.5,  650. ],\n",
              "       [  31.5,  500. ],\n",
              "       [  29. ,  430. ],\n",
              "       [  41. ,  950. ],\n",
              "       [  30. ,  450. ],\n",
              "       [  29. ,  363. ],\n",
              "       [  29.7,  500. ],\n",
              "       [  29.7,    8.7],\n",
              "       [  29.7,   10. ],\n",
              "       [  31. ,   12.2],\n",
              "       [  32. ,  600. ],\n",
              "       [  30.7,  500. ],\n",
              "       [  33. ,  700. ],\n",
              "       [  35. ,  700. ],\n",
              "       [  41. ,  975. ],\n",
              "       [  38.5,  920. ],\n",
              "       [  25.4,  242. ],\n",
              "       [  30. ,    9.8],\n",
              "       [  39.5,  925. ],\n",
              "       [  29.7,  450. ],\n",
              "       [  37. , 1000. ],\n",
              "       [  31. ,  500. ],\n",
              "       [  26.3,    7.5],\n",
              "       [  26.3,  290. ],\n",
              "       [  34. ,  685. ],\n",
              "       [  26.5,  340. ]])"
            ]
          },
          "metadata": {},
          "execution_count": 155
        }
      ]
    },
    {
      "cell_type": "code",
      "source": [
        "test_input = input_arr[index[35:]]\n",
        "test_target = target_arr[index[35:]]"
      ],
      "metadata": {
        "id": "br8MVYwlQLZ5"
      },
      "execution_count": null,
      "outputs": []
    },
    {
      "cell_type": "code",
      "source": [
        "plt.scatter(train_input[:,0], train_input[:,1])\n",
        "plt.scatter(test_input[:,0], test_input[:,1])\n",
        "plt.xlabel('length')\n",
        "plt.ylabel('weight')\n",
        "plt.show()"
      ],
      "metadata": {
        "colab": {
          "base_uri": "https://localhost:8080/",
          "height": 279
        },
        "id": "3OOkZPePQdiU",
        "outputId": "1e515871-2e91-41bf-9912-5b677d8afee5"
      },
      "execution_count": null,
      "outputs": [
        {
          "output_type": "display_data",
          "data": {
            "image/png": "[encoded data removed]",
            "text/plain": [
              "<Figure size 432x288 with 1 Axes>"
            ]
          },
          "metadata": {
            "needs_background": "light"
          }
        }
      ]
    },
    {
      "cell_type": "code",
      "source": [
        "kn = kn.fit(train_input, train_target)\n",
        "kn.score(test_input, test_target)"
      ],
      "metadata": {
        "colab": {
          "base_uri": "https://localhost:8080/"
        },
        "id": "Dq_GvF5GQ4v5",
        "outputId": "d533e37f-87ac-474f-8fef-eddc2cc4dbf0"
      },
      "execution_count": null,
      "outputs": [
        {
          "output_type": "execute_result",
          "data": {
            "text/plain": [
              "1.0"
            ]
          },
          "metadata": {},
          "execution_count": 158
        }
      ]
    },
    {
      "cell_type": "code",
      "source": [
        "kn.predict(test_input)"
      ],
      "metadata": {
        "colab": {
          "base_uri": "https://localhost:8080/"
        },
        "id": "7ANWj_raRIKr",
        "outputId": "c9beb80a-d2ab-41f6-813a-b4ed5b849af8"
      },
      "execution_count": null,
      "outputs": [
        {
          "output_type": "execute_result",
          "data": {
            "text/plain": [
              "array([0, 0, 1, 0, 1, 1, 1, 0, 1, 1, 0, 1, 1, 0])"
            ]
          },
          "metadata": {},
          "execution_count": 159
        }
      ]
    },
    {
      "cell_type": "code",
      "source": [
        "test_target"
      ],
      "metadata": {
        "colab": {
          "base_uri": "https://localhost:8080/"
        },
        "id": "db_YRzzRRPHH",
        "outputId": "dacfb5eb-0071-4829-fe8d-511fbe752fe6"
      },
      "execution_count": null,
      "outputs": [
        {
          "output_type": "execute_result",
          "data": {
            "text/plain": [
              "array([0, 0, 1, 0, 1, 1, 1, 0, 1, 1, 0, 1, 1, 0])"
            ]
          },
          "metadata": {},
          "execution_count": 160
        }
      ]
    },
    {
      "cell_type": "code",
      "source": [
        "np.column_stack(([1,2,3], [4,5,6]))"
      ],
      "metadata": {
        "id": "Fl1GkHbMRQKO",
        "colab": {
          "base_uri": "https://localhost:8080/"
        },
        "outputId": "6152b5ab-5358-4677-f052-b9e7dc24b9d1"
      },
      "execution_count": null,
      "outputs": [
        {
          "output_type": "execute_result",
          "data": {
            "text/plain": [
              "array([[1, 4],\n",
              "       [2, 5],\n",
              "       [3, 6]])"
            ]
          },
          "metadata": {},
          "execution_count": 161
        }
      ]
    },
    {
      "cell_type": "code",
      "source": [
        "fish_length = [25.4, 26.3, 26.5, 29.0, 29.0, 29.7, 29.7, 30.0, 30.0, 30.7, 31.0, 31.0, \n",
        "                31.5, 32.0, 32.0, 32.0, 33.0, 33.0, 33.5, 33.5, 34.0, 34.0, 34.5, 35.0, \n",
        "                35.0, 35.0, 35.0, 36.0, 36.0, 37.0, 38.5, 38.5, 39.5, 41.0, 41.0, 9.8, \n",
        "                10.5, 10.6, 11.0, 11.2, 11.3, 11.8, 11.8, 12.0, 12.2, 12.4, 13.0, 14.3, 15.0]\n",
        "fish_weight = [242.0, 290.0, 340.0, 363.0, 430.0, 450.0, 500.0, 390.0, 450.0, 500.0, 475.0, 500.0, \n",
        "                500.0, 340.0, 600.0, 600.0, 700.0, 700.0, 610.0, 650.0, 575.0, 685.0, 620.0, 680.0, \n",
        "                700.0, 725.0, 720.0, 714.0, 850.0, 1000.0, 920.0, 955.0, 925.0, 975.0, 950.0, 6.7, \n",
        "                7.5, 7.0, 9.7, 9.8, 8.7, 10.0, 9.9, 9.8, 12.2, 13.4, 12.2, 19.7, 19.9]"
      ],
      "metadata": {
        "id": "GtN3WC2bQ3TD"
      },
      "execution_count": null,
      "outputs": []
    },
    {
      "cell_type": "code",
      "source": [
        "fish_data = np.column_stack((fish_length, fish_weight))"
      ],
      "metadata": {
        "id": "yQhyYok8mS8x"
      },
      "execution_count": null,
      "outputs": []
    },
    {
      "cell_type": "code",
      "source": [
        "fish_data[:5]"
      ],
      "metadata": {
        "id": "zRtlXOP-mdjQ",
        "outputId": "528c125e-74fc-46d2-beab-500d9fc73ecd",
        "colab": {
          "base_uri": "https://localhost:8080/"
        }
      },
      "execution_count": null,
      "outputs": [
        {
          "output_type": "execute_result",
          "data": {
            "text/plain": [
              "array([[ 25.4, 242. ],\n",
              "       [ 26.3, 290. ],\n",
              "       [ 26.5, 340. ],\n",
              "       [ 29. , 363. ],\n",
              "       [ 29. , 430. ]])"
            ]
          },
          "metadata": {},
          "execution_count": 164
        }
      ]
    },
    {
      "cell_type": "code",
      "source": [
        "fish_target = np.concatenate((np.ones(35), np.zeros(14)))"
      ],
      "metadata": {
        "id": "L6Pitm7lm5QB"
      },
      "execution_count": null,
      "outputs": []
    },
    {
      "cell_type": "code",
      "source": [
        "fish_target"
      ],
      "metadata": {
        "colab": {
          "base_uri": "https://localhost:8080/"
        },
        "id": "YvqNmM_FnEV5",
        "outputId": "57e7c838-99e3-4354-e2a8-3361f6cbb21c"
      },
      "execution_count": null,
      "outputs": [
        {
          "output_type": "execute_result",
          "data": {
            "text/plain": [
              "array([1., 1., 1., 1., 1., 1., 1., 1., 1., 1., 1., 1., 1., 1., 1., 1., 1.,\n",
              "       1., 1., 1., 1., 1., 1., 1., 1., 1., 1., 1., 1., 1., 1., 1., 1., 1.,\n",
              "       1., 0., 0., 0., 0., 0., 0., 0., 0., 0., 0., 0., 0., 0., 0.])"
            ]
          },
          "metadata": {},
          "execution_count": 166
        }
      ]
    },
    {
      "cell_type": "code",
      "source": [
        "from sklearn.model_selection import train_test_split"
      ],
      "metadata": {
        "id": "vjaNi8zMnHvI"
      },
      "execution_count": null,
      "outputs": []
    },
    {
      "cell_type": "code",
      "source": [
        "train_input, test_input, train_target, test_target = train_test_split(fish_data, fish_target, stratify=fish_target, random_state=42)"
      ],
      "metadata": {
        "id": "qY0ljCp3nt0a"
      },
      "execution_count": null,
      "outputs": []
    },
    {
      "cell_type": "code",
      "source": [
        "train_input.shape"
      ],
      "metadata": {
        "colab": {
          "base_uri": "https://localhost:8080/"
        },
        "id": "d4DFmb62qZ_X",
        "outputId": "6f5a67a9-14fd-4848-93e7-6d3f61948a54"
      },
      "execution_count": null,
      "outputs": [
        {
          "output_type": "execute_result",
          "data": {
            "text/plain": [
              "(36, 2)"
            ]
          },
          "metadata": {},
          "execution_count": 169
        }
      ]
    },
    {
      "cell_type": "code",
      "source": [
        "train_target.shape"
      ],
      "metadata": {
        "colab": {
          "base_uri": "https://localhost:8080/"
        },
        "id": "GjNBg89UnFsg",
        "outputId": "dcbb0815-2e52-4409-d493-ecef75fac8d6"
      },
      "execution_count": null,
      "outputs": [
        {
          "output_type": "execute_result",
          "data": {
            "text/plain": [
              "(36,)"
            ]
          },
          "metadata": {},
          "execution_count": 170
        }
      ]
    },
    {
      "cell_type": "code",
      "source": [
        "test_target"
      ],
      "metadata": {
        "colab": {
          "base_uri": "https://localhost:8080/"
        },
        "id": "smXjCP6ZnFCw",
        "outputId": "45c3e824-af46-44fd-e529-7c282430b476"
      },
      "execution_count": null,
      "outputs": [
        {
          "output_type": "execute_result",
          "data": {
            "text/plain": [
              "array([0., 0., 1., 0., 1., 0., 1., 1., 1., 1., 1., 1., 1.])"
            ]
          },
          "metadata": {},
          "execution_count": 171
        }
      ]
    },
    {
      "cell_type": "code",
      "source": [
        "kn = KNeighborsClassifier()\n",
        "kn.fit(train_input, train_target)\n",
        "kn.score(test_input, test_target)"
      ],
      "metadata": {
        "colab": {
          "base_uri": "https://localhost:8080/"
        },
        "id": "ykim0VMgq0Rv",
        "outputId": "1a552f32-e480-4203-fd21-345a3aa5a06a"
      },
      "execution_count": null,
      "outputs": [
        {
          "output_type": "execute_result",
          "data": {
            "text/plain": [
              "1.0"
            ]
          },
          "metadata": {},
          "execution_count": 172
        }
      ]
    },
    {
      "cell_type": "code",
      "source": [
        "kn.predict([[25,150]])"
      ],
      "metadata": {
        "colab": {
          "base_uri": "https://localhost:8080/"
        },
        "id": "BqkhegEaraaJ",
        "outputId": "27a91ff1-f2fa-4490-851c-53e3a1f45baa"
      },
      "execution_count": null,
      "outputs": [
        {
          "output_type": "execute_result",
          "data": {
            "text/plain": [
              "array([0.])"
            ]
          },
          "metadata": {},
          "execution_count": 173
        }
      ]
    },
    {
      "cell_type": "code",
      "source": [
        "import matplotlib.pyplot as plt\n",
        "plt.figure(figsize=(20,8))\n",
        "plt.scatter(train_input[:,0], train_input[:,1])\n",
        "plt.scatter(25, 150, marker='^')\n",
        "plt.xlabel('length')\n",
        "plt.ylabel('weight')\n",
        "plt.legend(('train_input', 'test_fish'))\n",
        "plt.show()"
      ],
      "metadata": {
        "colab": {
          "base_uri": "https://localhost:8080/",
          "height": 385
        },
        "id": "kpnpoBiarlo3",
        "outputId": "731bb925-b609-4921-83c6-d0ab5dc5b904"
      },
      "execution_count": null,
      "outputs": [
        {
          "output_type": "display_data",
          "data": {
            "image/png": "[encoded data removed]",
            "text/plain": [
              "<Figure size 1440x576 with 1 Axes>"
            ]
          },
          "metadata": {
            "needs_background": "light"
          }
        }
      ]
    },
    {
      "cell_type": "code",
      "source": [
        "distances, indexes = kn.kneighbors([[25, 150]])"
      ],
      "metadata": {
        "id": "ciqaHqQgsYmQ"
      },
      "execution_count": null,
      "outputs": []
    },
    {
      "cell_type": "code",
      "source": [
        "distances"
      ],
      "metadata": {
        "colab": {
          "base_uri": "https://localhost:8080/"
        },
        "id": "XQoZJ9orskPO",
        "outputId": "9040fb6e-6e56-49a9-e404-c564dc56f15e"
      },
      "execution_count": null,
      "outputs": [
        {
          "output_type": "execute_result",
          "data": {
            "text/plain": [
              "array([[ 92.00086956, 130.48375378, 130.73859415, 138.32150953,\n",
              "        138.39320793]])"
            ]
          },
          "metadata": {},
          "execution_count": 176
        }
      ]
    },
    {
      "cell_type": "code",
      "source": [
        "indexes"
      ],
      "metadata": {
        "colab": {
          "base_uri": "https://localhost:8080/"
        },
        "id": "MWtHn7n0smNA",
        "outputId": "b6a163ca-64bc-4a3e-c73d-63010e7047d7"
      },
      "execution_count": null,
      "outputs": [
        {
          "output_type": "execute_result",
          "data": {
            "text/plain": [
              "array([[21, 33, 19, 30,  1]])"
            ]
          },
          "metadata": {},
          "execution_count": 177
        }
      ]
    },
    {
      "cell_type": "code",
      "source": [
        "train_input"
      ],
      "metadata": {
        "colab": {
          "base_uri": "https://localhost:8080/"
        },
        "id": "P0kP08EZs6yj",
        "outputId": "db52b512-198c-4a3b-cf0a-d93fc00b9065"
      },
      "execution_count": null,
      "outputs": [
        {
          "output_type": "execute_result",
          "data": {
            "text/plain": [
              "array([[  29.7,  500. ],\n",
              "       [  12.2,   12.2],\n",
              "       [  33. ,  700. ],\n",
              "       [  11.3,    8.7],\n",
              "       [  39.5,  925. ],\n",
              "       [  29. ,  430. ],\n",
              "       [  36. ,  714. ],\n",
              "       [  36. ,  850. ],\n",
              "       [  31. ,  475. ],\n",
              "       [  35. ,  720. ],\n",
              "       [  37. , 1000. ],\n",
              "       [  11.2,    9.8],\n",
              "       [  34.5,  620. ],\n",
              "       [  12. ,    9.8],\n",
              "       [  29. ,  363. ],\n",
              "       [  33. ,  700. ],\n",
              "       [  30.7,  500. ],\n",
              "       [  38.5,  955. ],\n",
              "       [  33.5,  650. ],\n",
              "       [  14.3,   19.7],\n",
              "       [  31.5,  500. ],\n",
              "       [  25.4,  242. ],\n",
              "       [   9.8,    6.7],\n",
              "       [  32. ,  600. ],\n",
              "       [  10.5,    7.5],\n",
              "       [  33.5,  610. ],\n",
              "       [  10.6,    7. ],\n",
              "       [  35. ,  700. ],\n",
              "       [  32. ,  600. ],\n",
              "       [  35. ,  725. ],\n",
              "       [  13. ,   12.2],\n",
              "       [  30. ,  450. ],\n",
              "       [  32. ,  340. ],\n",
              "       [  15. ,   19.9],\n",
              "       [  30. ,  390. ],\n",
              "       [  41. ,  975. ]])"
            ]
          },
          "metadata": {},
          "execution_count": 178
        }
      ]
    },
    {
      "cell_type": "code",
      "source": [
        "plt.figure(figsize=(20,8))\n",
        "plt.scatter(train_input[:,0], train_input[:,1])\n",
        "plt.scatter(25, 150, marker='^')\n",
        "plt.scatter(train_input[indexes, 0], train_input[indexes, 1], marker='D')\n",
        "plt.xlabel('length')\n",
        "plt.ylabel('weight')\n",
        "plt.legend(('train_input', 'test_fish', 'nearest_neighbors'))\n",
        "plt.show()"
      ],
      "metadata": {
        "colab": {
          "base_uri": "https://localhost:8080/",
          "height": 385
        },
        "id": "If80vZAtsm6P",
        "outputId": "da05f5f4-9a42-4354-a859-14b4a238998c"
      },
      "execution_count": null,
      "outputs": [
        {
          "output_type": "display_data",
          "data": {
            "image/png": "[encoded data removed]",
            "text/plain": [
              "<Figure size 1440x576 with 1 Axes>"
            ]
          },
          "metadata": {
            "needs_background": "light"
          }
        }
      ]
    },
    {
      "cell_type": "code",
      "source": [
        "train_input[indexes,0]"
      ],
      "metadata": {
        "colab": {
          "base_uri": "https://localhost:8080/"
        },
        "id": "nDTA6o8osCNY",
        "outputId": "2d109b38-bda8-4c16-f61b-db6ed56f33dc"
      },
      "execution_count": null,
      "outputs": [
        {
          "output_type": "execute_result",
          "data": {
            "text/plain": [
              "array([[25.4, 15. , 14.3, 13. , 12.2]])"
            ]
          },
          "metadata": {},
          "execution_count": 180
        }
      ]
    },
    {
      "cell_type": "code",
      "source": [
        "train_input[indexes,]"
      ],
      "metadata": {
        "colab": {
          "base_uri": "https://localhost:8080/"
        },
        "id": "1nz-L4xBr-E4",
        "outputId": "82d18d26-03d8-4dda-ccab-db5029ab8928"
      },
      "execution_count": null,
      "outputs": [
        {
          "output_type": "execute_result",
          "data": {
            "text/plain": [
              "array([[[ 25.4, 242. ],\n",
              "        [ 15. ,  19.9],\n",
              "        [ 14.3,  19.7],\n",
              "        [ 13. ,  12.2],\n",
              "        [ 12.2,  12.2]]])"
            ]
          },
          "metadata": {},
          "execution_count": 181
        }
      ]
    },
    {
      "cell_type": "code",
      "source": [
        "train_input[indexes]"
      ],
      "metadata": {
        "colab": {
          "base_uri": "https://localhost:8080/"
        },
        "id": "-LpChBaprX63",
        "outputId": "ec660b74-83e5-4c95-c671-ce0a30643f8f"
      },
      "execution_count": null,
      "outputs": [
        {
          "output_type": "execute_result",
          "data": {
            "text/plain": [
              "array([[[ 25.4, 242. ],\n",
              "        [ 15. ,  19.9],\n",
              "        [ 14.3,  19.7],\n",
              "        [ 13. ,  12.2],\n",
              "        [ 12.2,  12.2]]])"
            ]
          },
          "metadata": {},
          "execution_count": 182
        }
      ]
    },
    {
      "cell_type": "code",
      "source": [
        "indexes"
      ],
      "metadata": {
        "id": "mF0MfRThme3R",
        "colab": {
          "base_uri": "https://localhost:8080/"
        },
        "outputId": "2cf7bba3-4ac2-4bb0-fba8-bf986fdb4ed7"
      },
      "execution_count": null,
      "outputs": [
        {
          "output_type": "execute_result",
          "data": {
            "text/plain": [
              "array([[21, 33, 19, 30,  1]])"
            ]
          },
          "metadata": {},
          "execution_count": 183
        }
      ]
    },
    {
      "cell_type": "code",
      "source": [
        "train_target[indexes]"
      ],
      "metadata": {
        "id": "6H_oMV5CmE9p",
        "colab": {
          "base_uri": "https://localhost:8080/"
        },
        "outputId": "8c4061c3-73cd-4eaa-ccac-b6534fb5bc4d"
      },
      "execution_count": null,
      "outputs": [
        {
          "output_type": "execute_result",
          "data": {
            "text/plain": [
              "array([[1., 0., 0., 0., 0.]])"
            ]
          },
          "metadata": {},
          "execution_count": 184
        }
      ]
    },
    {
      "cell_type": "code",
      "source": [
        "distances"
      ],
      "metadata": {
        "id": "BOFYLL11mFDR",
        "colab": {
          "base_uri": "https://localhost:8080/"
        },
        "outputId": "f958aa7c-64e6-490e-ae16-d63364af9e8b"
      },
      "execution_count": null,
      "outputs": [
        {
          "output_type": "execute_result",
          "data": {
            "text/plain": [
              "array([[ 92.00086956, 130.48375378, 130.73859415, 138.32150953,\n",
              "        138.39320793]])"
            ]
          },
          "metadata": {},
          "execution_count": 185
        }
      ]
    },
    {
      "cell_type": "markdown",
      "source": [
        "도미까지의 거리 92만 가깝고, 나머지(빙어)까지는 다 130 넘음.\n",
        "\n",
        "근데 위 그래프에선 92까지의 거리인 도미가 더 가까워보이지 않나?\n",
        "\n",
        "-> x축과 y축의 범위가 다르기 때문!\n",
        "\n",
        "**다른 말로 하면 두 특성 간 스케일(scale)이 다른 것.**"
      ],
      "metadata": {
        "id": "FNXw2VfquWUZ"
      }
    },
    {
      "cell_type": "markdown",
      "source": [
        "** 해결법: 기준(범위)을 맞추자**\n",
        "\n",
        "0 ~ 1,000"
      ],
      "metadata": {
        "id": "oNVuRKuBu9Aq"
      }
    },
    {
      "cell_type": "code",
      "source": [
        "plt.figure(figsize=(20,8))\n",
        "plt.scatter(train_input[:,0], train_input[:,1])\n",
        "plt.scatter(25, 150, marker='^')\n",
        "plt.scatter(train_input[indexes, 0], train_input[indexes, 1], marker='D')\n",
        "plt.xlim((0, 1000))\n",
        "plt.xlabel('length')\n",
        "plt.ylabel('weight')\n",
        "plt.legend(('train_input', 'test_fish', 'nearest_neighbors'))\n",
        "plt.show()"
      ],
      "metadata": {
        "colab": {
          "base_uri": "https://localhost:8080/",
          "height": 381
        },
        "id": "hWGai2oMvH1O",
        "outputId": "7700727c-c144-4cab-ed3c-c0d4a3fe6c8b"
      },
      "execution_count": null,
      "outputs": [
        {
          "output_type": "display_data",
          "data": {
            "image/png": "[encoded data removed]",
            "text/plain": [
              "<Figure size 1440x576 with 1 Axes>"
            ]
          },
          "metadata": {
            "needs_background": "light"
          }
        }
      ]
    },
    {
      "cell_type": "markdown",
      "source": [
        "데이터 표현 기준이 다르면 알고리즘이 올바르게 예측할 수 없음. 특히 거리 기반일 때 더더욱(k-nearest neighbor).\n",
        "\n",
        "따라서 특성값을 일정한 기준으로 맞춰 주어야 함. 이 작업을 **데이터 전처리(data preprocessing)**라고 부름."
      ],
      "metadata": {
        "id": "7tHWKwl-vuSR"
      }
    },
    {
      "cell_type": "code",
      "source": [
        ""
      ],
      "metadata": {
        "id": "F9IioNvuwZ3v"
      },
      "execution_count": null,
      "outputs": []
    },
    {
      "cell_type": "markdown",
      "source": [
        "가장 널리 사용하는 전처리 방법 중 하나는 **표준점수(standard score)**(혹은 z score)이다.\n",
        "- 표준점수: 각 특성값이 평균에서 표준편차의 몇 배만큼 떨어져있는지를 나타냄(몇 표준편차만큼 떨어져 있는가)"
      ],
      "metadata": {
        "id": "B5_VI0fywyrP"
      }
    },
    {
      "cell_type": "code",
      "source": [
        "# train_input은 (36, 2) 크기의 배열. 특성마다 값의 scale이 다르므로 각 특성별로 계산해야 함.\n",
        "mean = np.mean(train_input, axis=0)\n",
        "std = np.std(train_input, axis=0)"
      ],
      "metadata": {
        "id": "NbNgEvpUxOpn"
      },
      "execution_count": null,
      "outputs": []
    },
    {
      "cell_type": "code",
      "source": [
        "print(mean, std)"
      ],
      "metadata": {
        "colab": {
          "base_uri": "https://localhost:8080/"
        },
        "id": "LorJ3QuAxolm",
        "outputId": "f4e0da41-7f5c-4416-bd32-2c836851716f"
      },
      "execution_count": null,
      "outputs": [
        {
          "output_type": "stream",
          "name": "stdout",
          "text": [
            "[ 27.29722222 454.09722222] [  9.98244253 323.29893931]\n"
          ]
        }
      ]
    },
    {
      "cell_type": "code",
      "source": [
        "# standard score(z score)\n",
        "train_scaled = (train_input - mean) / std\n",
        "train_scaled"
      ],
      "metadata": {
        "colab": {
          "base_uri": "https://localhost:8080/"
        },
        "id": "BqVaH43lxr_W",
        "outputId": "e94683fe-da35-4894-90e3-46b27f119bd5"
      },
      "execution_count": null,
      "outputs": [
        {
          "output_type": "execute_result",
          "data": {
            "text/plain": [
              "array([[ 0.24070039,  0.14198246],\n",
              "       [-1.51237757, -1.36683783],\n",
              "       [ 0.5712808 ,  0.76060496],\n",
              "       [-1.60253587, -1.37766373],\n",
              "       [ 1.22242404,  1.45655528],\n",
              "       [ 0.17057727, -0.07453542],\n",
              "       [ 0.87180845,  0.80390854],\n",
              "       [ 0.87180845,  1.22457184],\n",
              "       [ 0.37092904,  0.06465464],\n",
              "       [ 0.77163257,  0.82246721],\n",
              "       [ 0.97198434,  1.68853872],\n",
              "       [-1.61255346, -1.3742613 ],\n",
              "       [ 0.72154463,  0.51315596],\n",
              "       [-1.53241275, -1.3742613 ],\n",
              "       [ 0.17057727, -0.28177396],\n",
              "       [ 0.5712808 ,  0.76060496],\n",
              "       [ 0.34087627,  0.14198246],\n",
              "       [ 1.12224816,  1.54934866],\n",
              "       [ 0.62136874,  0.60594934],\n",
              "       [-1.30200822, -1.34363949],\n",
              "       [ 0.42101698,  0.14198246],\n",
              "       [-0.19005591, -0.65604058],\n",
              "       [-1.75279969, -1.38384995],\n",
              "       [ 0.47110492,  0.45129371],\n",
              "       [-1.68267658, -1.38137546],\n",
              "       [ 0.62136874,  0.48222484],\n",
              "       [-1.67265899, -1.38292202],\n",
              "       [ 0.77163257,  0.76060496],\n",
              "       [ 0.47110492,  0.45129371],\n",
              "       [ 0.77163257,  0.83793278],\n",
              "       [-1.43223687, -1.36683783],\n",
              "       [ 0.27075315, -0.01267317],\n",
              "       [ 0.47110492, -0.35291555],\n",
              "       [-1.2318851 , -1.34302087],\n",
              "       [ 0.27075315, -0.19825992],\n",
              "       [ 1.37268787,  1.61121091]])"
            ]
          },
          "metadata": {},
          "execution_count": 189
        }
      ]
    },
    {
      "cell_type": "markdown",
      "source": [
        "### Broadcasting\n",
        "넘파이 배열 사이에서 일어남.\n",
        "\n",
        "train_input의 모든 행에서 mean에 있는 두 평균값을 빼준 뒤, std에 있는 두 표준편차를 다시 모든 행에 적용."
      ],
      "metadata": {
        "id": "ltHmt8yLyoe-"
      }
    },
    {
      "cell_type": "markdown",
      "source": [
        "### 전처리 데이터로 모델 훈련\n",
        "표준점수로 변환한 train_scaled로 산점도 그려보자"
      ],
      "metadata": {
        "id": "jEZZiprYzUzq"
      }
    },
    {
      "cell_type": "code",
      "source": [
        "plt.figure(figsize=(20,8))\n",
        "plt.scatter(train_scaled[:,0], train_scaled[:,1])\n",
        "plt.scatter(25, 150, marker='^')\n",
        "plt.xlabel('length')\n",
        "plt.ylabel('weight')\n",
        "plt.legend(('train set', 'sample'))\n",
        "plt.show()"
      ],
      "metadata": {
        "colab": {
          "base_uri": "https://localhost:8080/",
          "height": 387
        },
        "id": "YCE7m_pUzdt-",
        "outputId": "c3f77c38-87cf-4abc-dde2-d1d204f862f9"
      },
      "execution_count": null,
      "outputs": [
        {
          "output_type": "display_data",
          "data": {
            "image/png": "[encoded data removed]",
            "text/plain": [
              "<Figure size 1440x576 with 1 Axes>"
            ]
          },
          "metadata": {
            "needs_background": "light"
          }
        }
      ]
    },
    {
      "cell_type": "markdown",
      "source": [
        "이상한 이유: train_input을 표준점수로 변환했는데, 저 [25, 150]은 안 해줬으므로.\n",
        "\n",
        "### 아주 중요한 것: train set의 mean, std를 이용해서 sample도 변환해야 한다."
      ],
      "metadata": {
        "id": "AyWC9RhDz0FU"
      }
    },
    {
      "cell_type": "code",
      "source": [
        "new = ([25, 150] - mean) / std\n",
        "plt.figure(figsize=(20,8))\n",
        "plt.scatter(train_scaled[:,0], train_scaled[:,1])\n",
        "plt.scatter(new[0], new[1], marker='^')\n",
        "plt.xlabel('length')\n",
        "plt.ylabel('weight')\n",
        "plt.legend(('train set', 'standardized sample'))\n",
        "plt.show()"
      ],
      "metadata": {
        "colab": {
          "base_uri": "https://localhost:8080/",
          "height": 386
        },
        "id": "1GfBLxud0HKF",
        "outputId": "a22a153b-4230-4318-d4dd-9c957acdd8c6"
      },
      "execution_count": null,
      "outputs": [
        {
          "output_type": "display_data",
          "data": {
            "image/png": "[encoded data removed]",
            "text/plain": [
              "<Figure size 1440x576 with 1 Axes>"
            ]
          },
          "metadata": {
            "needs_background": "light"
          }
        }
      ]
    },
    {
      "cell_type": "code",
      "source": [
        "new = ([25, 150] - mean) / std"
      ],
      "metadata": {
        "id": "XF3_pqXdztml"
      },
      "execution_count": null,
      "outputs": []
    },
    {
      "cell_type": "code",
      "source": [
        "new"
      ],
      "metadata": {
        "colab": {
          "base_uri": "https://localhost:8080/"
        },
        "id": "eg3d9MJ7zXMF",
        "outputId": "511bd259-52e4-4b65-eca3-6f8c5e1e3d01"
      },
      "execution_count": null,
      "outputs": [
        {
          "output_type": "execute_result",
          "data": {
            "text/plain": [
              "array([-0.23012627, -0.94060693])"
            ]
          },
          "metadata": {},
          "execution_count": 193
        }
      ]
    },
    {
      "cell_type": "markdown",
      "source": [
        "이제 훈련 데이터의 두 특성이 비슷한 범위를 차지하고 있으므로, 이 데이터셋으로 다시 k-nearest neighbor 훈련해보자."
      ],
      "metadata": {
        "id": "3BvlVimW0mrp"
      }
    },
    {
      "cell_type": "code",
      "source": [
        "# 모델 훈련(fit)\n",
        "kn.fit(train_scaled, train_target)"
      ],
      "metadata": {
        "colab": {
          "base_uri": "https://localhost:8080/"
        },
        "id": "MIjqw05T0wel",
        "outputId": "4a64f16c-979c-4b6e-fe3d-c9a0adf01b06"
      },
      "execution_count": null,
      "outputs": [
        {
          "output_type": "execute_result",
          "data": {
            "text/plain": [
              "KNeighborsClassifier()"
            ]
          },
          "metadata": {},
          "execution_count": 194
        }
      ]
    },
    {
      "cell_type": "code",
      "source": [
        "# test set(test_input)도 마찬가지로 mean과 std로 변환해야 함\n",
        "test_scaled = (test_input - mean) / std\n",
        "\n",
        "# 모델 평가\n",
        "kn.score(test_scaled, test_target)"
      ],
      "metadata": {
        "colab": {
          "base_uri": "https://localhost:8080/"
        },
        "id": "h6yisUhj00Z2",
        "outputId": "0e171e0a-6830-466c-c55c-3d2e5d11f74e"
      },
      "execution_count": null,
      "outputs": [
        {
          "output_type": "execute_result",
          "data": {
            "text/plain": [
              "1.0"
            ]
          },
          "metadata": {},
          "execution_count": 195
        }
      ]
    },
    {
      "cell_type": "code",
      "source": [
        "kn.predict([new])"
      ],
      "metadata": {
        "colab": {
          "base_uri": "https://localhost:8080/"
        },
        "id": "5THTbFlX1AeF",
        "outputId": "6204c03a-1195-4bc8-c95e-f43123ab563e"
      },
      "execution_count": null,
      "outputs": [
        {
          "output_type": "execute_result",
          "data": {
            "text/plain": [
              "array([1.])"
            ]
          },
          "metadata": {},
          "execution_count": 196
        }
      ]
    },
    {
      "cell_type": "markdown",
      "source": [
        "이 sample의 k-nearest neighbor을 구한 다음 산점도로 나타내자.\n",
        "\n",
        "(특성을 표준점수로 바꾸었기 때문에 k-nearest neighbor algorithm이 올바르게 거리를 측정했을 것)"
      ],
      "metadata": {
        "id": "dMkVfUqj1nBZ"
      }
    },
    {
      "cell_type": "code",
      "source": [
        "distances, indexes = kn.kneighbors([new])\n",
        "plt.figure(figsize=(20,8))\n",
        "plt.scatter(train_scaled[:,0], train_scaled[:,1])\n",
        "plt.scatter(new[0], new[1], marker='^')\n",
        "plt.scatter(train_scaled[indexes,0], train_scaled[indexes,1], marker='D')\n",
        "plt.xlabel('length')\n",
        "plt.ylabel('weight')\n",
        "plt.legend(('standardized train set', 'standardized sample', 'nearnes samples'))\n",
        "plt.show()"
      ],
      "metadata": {
        "colab": {
          "base_uri": "https://localhost:8080/",
          "height": 386
        },
        "id": "qVnSxOtU11QU",
        "outputId": "ff442949-5197-40b8-d4d6-3bb84c59d832"
      },
      "execution_count": null,
      "outputs": [
        {
          "output_type": "display_data",
          "data": {
            "image/png": "[encoded data removed]",
            "text/plain": [
              "<Figure size 1440x576 with 1 Axes>"
            ]
          },
          "metadata": {
            "needs_background": "light"
          }
        }
      ]
    },
    {
      "cell_type": "markdown",
      "source": [
        "**이제 표준화된 sample([25, 150])에서 가장 가까운 samples는 모두 도미!**\n",
        "\n",
        "따라서 이 sample([25, 150])을 도미로 예측하는 것이 당연. \n",
        "\n",
        "성공!\n",
        "\n",
        "-> 특성값의 scale에 민감하지 않고 안정적인 예측을 할 수 있는 모델을 만들었다. 특성의 scale이 다르면 대부분의 ML algo가 잘 작동하지 않음. 이를 위해 특성을 표준점수로 변환함(표준점수 말고도 scale 조정할 수 있는 방법들이 있긴 한데 대부분 표준점수면 충분하고, 또 가장 널리 사용함).\n",
        "\n",
        "* 주의할 점: train set 변환한 방식 그대로 test set 변환해야 함."
      ],
      "metadata": {
        "id": "EYPkKHJx2iIK"
      }
    },
    {
      "cell_type": "code",
      "source": [
        ""
      ],
      "metadata": {
        "id": "hNaujNH32dc-"
      },
      "execution_count": null,
      "outputs": []
    },
    {
      "cell_type": "markdown",
      "source": [
        "# Chapter 3"
      ],
      "metadata": {
        "id": "fUmVhgcX8Jbz"
      }
    },
    {
      "cell_type": "markdown",
      "source": [
        "## 3-1. k-최근접 이웃 회귀"
      ],
      "metadata": {
        "id": "sBQULU028NhV"
      }
    },
    {
      "cell_type": "code",
      "source": [
        "import numpy as np\n",
        "import matplotlib.pyplot as plt\n",
        "from sklearn.model_selection import train_test_split"
      ],
      "metadata": {
        "id": "DpFA2dN58Syr"
      },
      "execution_count": null,
      "outputs": []
    },
    {
      "cell_type": "code",
      "source": [
        "perch_length = np.array([8.4, 13.7, 15.0, 16.2, 17.4, 18.0, 18.7, 19.0, 19.6, 20.0, 21.0,\n",
        "       21.0, 21.0, 21.3, 22.0, 22.0, 22.0, 22.0, 22.0, 22.5, 22.5, 22.7,\n",
        "       23.0, 23.5, 24.0, 24.0, 24.6, 25.0, 25.6, 26.5, 27.3, 27.5, 27.5,\n",
        "       27.5, 28.0, 28.7, 30.0, 32.8, 34.5, 35.0, 36.5, 36.0, 37.0, 37.0,\n",
        "       39.0, 39.0, 39.0, 40.0, 40.0, 40.0, 40.0, 42.0, 43.0, 43.0, 43.5,\n",
        "       44.0])\n",
        "perch_weight = np.array([5.9, 32.0, 40.0, 51.5, 70.0, 100.0, 78.0, 80.0, 85.0, 85.0, 110.0,\n",
        "       115.0, 125.0, 130.0, 120.0, 120.0, 130.0, 135.0, 110.0, 130.0,\n",
        "       150.0, 145.0, 150.0, 170.0, 225.0, 145.0, 188.0, 180.0, 197.0,\n",
        "       218.0, 300.0, 260.0, 265.0, 250.0, 250.0, 300.0, 320.0, 514.0,\n",
        "       556.0, 840.0, 685.0, 700.0, 700.0, 690.0, 900.0, 650.0, 820.0,\n",
        "       850.0, 900.0, 1015.0, 820.0, 1100.0, 1000.0, 1100.0, 1000.0,\n",
        "       1000.0])"
      ],
      "metadata": {
        "id": "j8vsSv0f8lz9"
      },
      "execution_count": null,
      "outputs": []
    },
    {
      "cell_type": "code",
      "source": [
        "plt.scatter(perch_length, perch_weight)\n",
        "plt.xlabel('length')\n",
        "plt.ylabel('weight')\n",
        "plt.show()"
      ],
      "metadata": {
        "colab": {
          "base_uri": "https://localhost:8080/",
          "height": 279
        },
        "id": "2AGbUyfV8Md8",
        "outputId": "50816344-d910-43f2-9f84-84b2a2171b00"
      },
      "execution_count": null,
      "outputs": [
        {
          "output_type": "display_data",
          "data": {
            "image/png": "[encoded data removed]",
            "text/plain": [
              "<Figure size 432x288 with 1 Axes>"
            ]
          },
          "metadata": {
            "needs_background": "light"
          }
        }
      ]
    },
    {
      "cell_type": "code",
      "source": [
        "train_input, test_input, train_target, test_target = train_test_split(perch_length, perch_weight, random_state=42)"
      ],
      "metadata": {
        "id": "pK9cm6-x8yWH"
      },
      "execution_count": null,
      "outputs": []
    },
    {
      "cell_type": "code",
      "source": [
        "# 2차원 배열로 shape 바꾸기\n",
        "ta = np.array([1,2,3,4])\n",
        "ta.shape"
      ],
      "metadata": {
        "colab": {
          "base_uri": "https://localhost:8080/"
        },
        "id": "Ujya29H889ps",
        "outputId": "88f720e5-b51b-409d-a086-d569cee5a460"
      },
      "execution_count": null,
      "outputs": [
        {
          "output_type": "execute_result",
          "data": {
            "text/plain": [
              "(4,)"
            ]
          },
          "metadata": {},
          "execution_count": 6
        }
      ]
    },
    {
      "cell_type": "code",
      "source": [
        "ta = ta.reshape(2, 2)\n",
        "ta.shape"
      ],
      "metadata": {
        "colab": {
          "base_uri": "https://localhost:8080/"
        },
        "id": "ekCIw5iR9LCt",
        "outputId": "df32cc02-3532-45b7-ab7e-a5a42d5864ad"
      },
      "execution_count": null,
      "outputs": [
        {
          "output_type": "execute_result",
          "data": {
            "text/plain": [
              "(2, 2)"
            ]
          },
          "metadata": {},
          "execution_count": 7
        }
      ]
    },
    {
      "cell_type": "code",
      "source": [
        "ta"
      ],
      "metadata": {
        "colab": {
          "base_uri": "https://localhost:8080/"
        },
        "id": "Hzw4h47e9ObE",
        "outputId": "2fd5f52f-1669-4c11-efd4-3f4b6c122ff2"
      },
      "execution_count": null,
      "outputs": [
        {
          "output_type": "execute_result",
          "data": {
            "text/plain": [
              "array([[1, 2],\n",
              "       [3, 4]])"
            ]
          },
          "metadata": {},
          "execution_count": 8
        }
      ]
    },
    {
      "cell_type": "code",
      "source": [
        "train_input = train_input.reshape(-1, 1) # = (42, 1)\n",
        "test_input = test_input.reshape(-1, 1)\n",
        "print(train_input.shape, test_input.shape)"
      ],
      "metadata": {
        "colab": {
          "base_uri": "https://localhost:8080/"
        },
        "id": "8bAb1jHF9ROl",
        "outputId": "1c1eafa0-1292-417d-9fa9-1841b2a45358"
      },
      "execution_count": null,
      "outputs": [
        {
          "output_type": "stream",
          "name": "stdout",
          "text": [
            "(42, 1) (14, 1)\n"
          ]
        }
      ]
    },
    {
      "cell_type": "markdown",
      "source": [
        "### 결정계수($R^2$)\n",
        "\n",
        "Classification의 경우는 score가 '샘플을 정확하게 분류한 개수의 비율', 즉 정확도.\n",
        "\n",
        "회귀에서는 결정계수($R^2$).\n",
        "\n",
        "$R^2 = 1 - \\frac{(타깃-예측)^2의 합}{(타깃-평균)^2의 합}$"
      ],
      "metadata": {
        "id": "3mrEYY2V98um"
      }
    },
    {
      "cell_type": "code",
      "source": [
        "from sklearn.neighbors import KNeighborsRegressor\n",
        "\n",
        "knr = KNeighborsRegressor()\n",
        "knr.fit(train_input, train_target)\n",
        "knr.score(test_input, test_target)"
      ],
      "metadata": {
        "colab": {
          "base_uri": "https://localhost:8080/"
        },
        "id": "9Jx0Zg-j-AiV",
        "outputId": "edd60fdb-f26a-4232-8891-993fb220f2a7"
      },
      "execution_count": null,
      "outputs": [
        {
          "output_type": "execute_result",
          "data": {
            "text/plain": [
              "0.992809406101064"
            ]
          },
          "metadata": {},
          "execution_count": 10
        }
      ]
    },
    {
      "cell_type": "markdown",
      "source": [
        "0.99가 얼마나 좋은 건가?\n",
        "\n",
        "target과 predict한 값의 차이를 구해보자."
      ],
      "metadata": {
        "id": "X7ASf7F2_PYD"
      }
    },
    {
      "cell_type": "code",
      "source": [
        "from sklearn.metrics import mean_absolute_error\n",
        "\n",
        "# test set에 대한 prediction 생성\n",
        "test_prediction = knr.predict(test_input)\n",
        "\n",
        "# test set에 대한 평균 절댓값 오차를 계산\n",
        "mae = mean_absolute_error(test_target, test_prediction)\n",
        "mae"
      ],
      "metadata": {
        "colab": {
          "base_uri": "https://localhost:8080/"
        },
        "id": "0d3JBajT_U12",
        "outputId": "fcc4cdcf-8d33-4f5b-edaf-b5c1e801e021"
      },
      "execution_count": null,
      "outputs": [
        {
          "output_type": "execute_result",
          "data": {
            "text/plain": [
              "19.157142857142862"
            ]
          },
          "metadata": {},
          "execution_count": 11
        }
      ]
    },
    {
      "cell_type": "markdown",
      "source": [
        "약 19g 정도 target value와 다름."
      ],
      "metadata": {
        "id": "mwAyBqOD_wav"
      }
    },
    {
      "cell_type": "markdown",
      "source": [
        "### 과대적합 vs 과소적합"
      ],
      "metadata": {
        "id": "wPQs7xlK_6TP"
      }
    },
    {
      "cell_type": "markdown",
      "source": [
        "train set으로 훈련한 모델을 사용해 train set의 $R^2$ 점수 확인해보자."
      ],
      "metadata": {
        "id": "L472UXUI_9PH"
      }
    },
    {
      "cell_type": "code",
      "source": [
        "knr.score(train_input, train_target)"
      ],
      "metadata": {
        "colab": {
          "base_uri": "https://localhost:8080/"
        },
        "id": "WRpvqzqdAGlU",
        "outputId": "37d58bbf-b24b-435a-cb64-197cad6cc0f7"
      },
      "execution_count": null,
      "outputs": [
        {
          "output_type": "execute_result",
          "data": {
            "text/plain": [
              "0.9698823289099254"
            ]
          },
          "metadata": {},
          "execution_count": 12
        }
      ]
    },
    {
      "cell_type": "markdown",
      "source": [
        "**왜 train으로 훈련시키고 train으로 score 뽑았는데 점수가 test set score보다 낮을까?**\n",
        "\n",
        "- 일반적으로 train set score가 조금 더 높게 나옴\n",
        "- 만약 train set에서 점수가 좋았는데, test set에서 나쁘다면 **모델이 train set에 과대적합(overfitting)되었다**고 함\n",
        "- 반대로 train set보다 test set의 score가 더 높거나, 두 score가 모두 너무 낮은 경우에는 **과소적합(underfitting)되었다**고 말함\n",
        "  - 즉 모델이 너무 단순하여 train set에 적절히 훈련되지 않은 경우임\n",
        "  - train set이 전체 data르 대표한다고 가정하기 때문에 train set을 잘 학습하는 것이 중요"
      ],
      "metadata": {
        "id": "vItsqltxATlm"
      }
    },
    {
      "cell_type": "code",
      "source": [
        ""
      ],
      "metadata": {
        "id": "wvprefNIBDs3"
      },
      "execution_count": null,
      "outputs": []
    },
    {
      "cell_type": "markdown",
      "source": [
        "선형회귀와 다항회귀는 저자 분의 gitHub repo를 참고하자\n",
        "- https://github.com/rickiepark/hg-mldl/blob/master/3-2.ipynb"
      ],
      "metadata": {
        "id": "3Q_qAKCTCjoV"
      }
    },
    {
      "cell_type": "code",
      "source": [
        "from sklearn.linear_model import LinearRegression\n",
        "\n",
        "lr = LinearRegression()\n",
        "# 선형 회귀 모델 훈련\n",
        "lr.fit(train_input, train_target)"
      ],
      "metadata": {
        "colab": {
          "base_uri": "https://localhost:8080/"
        },
        "id": "KHaHKze3Cv9C",
        "outputId": "397307bd-3cac-4757-cbc9-4f1da8bab462"
      },
      "execution_count": null,
      "outputs": [
        {
          "output_type": "execute_result",
          "data": {
            "text/plain": [
              "LinearRegression()"
            ]
          },
          "metadata": {},
          "execution_count": 13
        }
      ]
    },
    {
      "cell_type": "code",
      "source": [
        "# 50cm 농어에 대한 예측\n",
        "print(lr.predict([[50]]))"
      ],
      "metadata": {
        "colab": {
          "base_uri": "https://localhost:8080/"
        },
        "id": "aIm6s0vdC6VK",
        "outputId": "cbb6726e-4469-4fc0-a1bd-96d3fad7b078"
      },
      "execution_count": null,
      "outputs": [
        {
          "output_type": "stream",
          "name": "stdout",
          "text": [
            "[1241.83860323]\n"
          ]
        }
      ]
    },
    {
      "cell_type": "code",
      "source": [
        "print(lr.coef_, lr.intercept_)"
      ],
      "metadata": {
        "id": "mQrj5OZgAS2_",
        "colab": {
          "base_uri": "https://localhost:8080/"
        },
        "outputId": "0cc5eea2-33ef-4e57-8f58-db31758a1b88"
      },
      "execution_count": null,
      "outputs": [
        {
          "output_type": "stream",
          "name": "stdout",
          "text": [
            "[39.01714496] -709.0186449535477\n"
          ]
        }
      ]
    },
    {
      "cell_type": "code",
      "source": [
        "# 훈련 세트의 산점도를 그립니다\n",
        "plt.scatter(train_input, train_target)\n",
        "# 15에서 50까지 1차 방정식 그래프를 그립니다\n",
        "plt.plot([15, 50], [15*lr.coef_+lr.intercept_, 50*lr.coef_+lr.intercept_])\n",
        "# 50cm 농어 데이터\n",
        "plt.scatter(50, 1241.8, marker='^')\n",
        "plt.xlabel('length')\n",
        "plt.ylabel('weight')\n",
        "plt.show()"
      ],
      "metadata": {
        "colab": {
          "base_uri": "https://localhost:8080/",
          "height": 279
        },
        "id": "acYIBqATDBh6",
        "outputId": "525e23fe-f6d2-4df9-fae0-ac4ca7006ac0"
      },
      "execution_count": null,
      "outputs": [
        {
          "output_type": "display_data",
          "data": {
            "image/png": "[encoded data removed]",
            "text/plain": [
              "<Figure size 432x288 with 1 Axes>"
            ]
          },
          "metadata": {
            "needs_background": "light"
          }
        }
      ]
    },
    {
      "cell_type": "code",
      "source": [
        "print(lr.score(train_input, train_target))\n",
        "print(lr.score(test_input, test_target))"
      ],
      "metadata": {
        "colab": {
          "base_uri": "https://localhost:8080/"
        },
        "id": "UMTORVjNDDKJ",
        "outputId": "3d8dae41-fcc1-45d3-b74a-06bd9b7c7233"
      },
      "execution_count": null,
      "outputs": [
        {
          "output_type": "stream",
          "name": "stdout",
          "text": [
            "0.939846333997604\n",
            "0.8247503123313558\n"
          ]
        }
      ]
    },
    {
      "cell_type": "markdown",
      "source": [
        "### 다항회귀"
      ],
      "metadata": {
        "id": "dKiDavSaDFTL"
      }
    },
    {
      "cell_type": "code",
      "source": [
        "train_poly = np.column_stack((train_input ** 2, train_input))\n",
        "test_poly = np.column_stack((test_input ** 2, test_input))"
      ],
      "metadata": {
        "id": "vWs1XvhvDGKB"
      },
      "execution_count": null,
      "outputs": []
    },
    {
      "cell_type": "code",
      "source": [
        "train_input"
      ],
      "metadata": {
        "colab": {
          "base_uri": "https://localhost:8080/"
        },
        "id": "S06662vNDoLd",
        "outputId": "0e680f7a-6a9d-4856-9d3d-ad56a9317655"
      },
      "execution_count": null,
      "outputs": [
        {
          "output_type": "execute_result",
          "data": {
            "text/plain": [
              "array([[19.6],\n",
              "       [22. ],\n",
              "       [18.7],\n",
              "       [17.4],\n",
              "       [36. ],\n",
              "       [25. ],\n",
              "       [40. ],\n",
              "       [39. ],\n",
              "       [43. ],\n",
              "       [22. ],\n",
              "       [20. ],\n",
              "       [22. ],\n",
              "       [24. ],\n",
              "       [27.5],\n",
              "       [43. ],\n",
              "       [40. ],\n",
              "       [24. ],\n",
              "       [21. ],\n",
              "       [27.5],\n",
              "       [40. ],\n",
              "       [32.8],\n",
              "       [26.5],\n",
              "       [36.5],\n",
              "       [13.7],\n",
              "       [22.7],\n",
              "       [15. ],\n",
              "       [37. ],\n",
              "       [35. ],\n",
              "       [28.7],\n",
              "       [23.5],\n",
              "       [39. ],\n",
              "       [21. ],\n",
              "       [23. ],\n",
              "       [22. ],\n",
              "       [44. ],\n",
              "       [22.5],\n",
              "       [19. ],\n",
              "       [37. ],\n",
              "       [22. ],\n",
              "       [25.6],\n",
              "       [42. ],\n",
              "       [34.5]])"
            ]
          },
          "metadata": {},
          "execution_count": 21
        }
      ]
    },
    {
      "cell_type": "code",
      "source": [
        "train_input.shape"
      ],
      "metadata": {
        "colab": {
          "base_uri": "https://localhost:8080/"
        },
        "id": "4hpvEf7RDHMx",
        "outputId": "a9ac35fb-f39b-4d81-884b-4778a86cf565"
      },
      "execution_count": null,
      "outputs": [
        {
          "output_type": "execute_result",
          "data": {
            "text/plain": [
              "(42, 1)"
            ]
          },
          "metadata": {},
          "execution_count": 20
        }
      ]
    },
    {
      "cell_type": "code",
      "source": [
        "train_input ** 2"
      ],
      "metadata": {
        "colab": {
          "base_uri": "https://localhost:8080/"
        },
        "id": "vF7w6eaMDmJ5",
        "outputId": "1e3a9093-b9d6-4e0d-ceb6-154abfbeb9ec"
      },
      "execution_count": null,
      "outputs": [
        {
          "output_type": "execute_result",
          "data": {
            "text/plain": [
              "array([[ 384.16],\n",
              "       [ 484.  ],\n",
              "       [ 349.69],\n",
              "       [ 302.76],\n",
              "       [1296.  ],\n",
              "       [ 625.  ],\n",
              "       [1600.  ],\n",
              "       [1521.  ],\n",
              "       [1849.  ],\n",
              "       [ 484.  ],\n",
              "       [ 400.  ],\n",
              "       [ 484.  ],\n",
              "       [ 576.  ],\n",
              "       [ 756.25],\n",
              "       [1849.  ],\n",
              "       [1600.  ],\n",
              "       [ 576.  ],\n",
              "       [ 441.  ],\n",
              "       [ 756.25],\n",
              "       [1600.  ],\n",
              "       [1075.84],\n",
              "       [ 702.25],\n",
              "       [1332.25],\n",
              "       [ 187.69],\n",
              "       [ 515.29],\n",
              "       [ 225.  ],\n",
              "       [1369.  ],\n",
              "       [1225.  ],\n",
              "       [ 823.69],\n",
              "       [ 552.25],\n",
              "       [1521.  ],\n",
              "       [ 441.  ],\n",
              "       [ 529.  ],\n",
              "       [ 484.  ],\n",
              "       [1936.  ],\n",
              "       [ 506.25],\n",
              "       [ 361.  ],\n",
              "       [1369.  ],\n",
              "       [ 484.  ],\n",
              "       [ 655.36],\n",
              "       [1764.  ],\n",
              "       [1190.25]])"
            ]
          },
          "metadata": {},
          "execution_count": 22
        }
      ]
    },
    {
      "cell_type": "code",
      "source": [
        "(train_input ** 2).shape"
      ],
      "metadata": {
        "colab": {
          "base_uri": "https://localhost:8080/"
        },
        "id": "ndE9oRBTDlGq",
        "outputId": "262a2dff-b6ea-499a-e88b-a6425477c5e9"
      },
      "execution_count": null,
      "outputs": [
        {
          "output_type": "execute_result",
          "data": {
            "text/plain": [
              "(42, 1)"
            ]
          },
          "metadata": {},
          "execution_count": 23
        }
      ]
    },
    {
      "cell_type": "code",
      "source": [
        "print(train_poly.shape, test_poly.shape)"
      ],
      "metadata": {
        "colab": {
          "base_uri": "https://localhost:8080/"
        },
        "id": "QPNnuExEDEWJ",
        "outputId": "6aaa1efb-b8c4-4fd5-b0ba-28d19fdc5124"
      },
      "execution_count": null,
      "outputs": [
        {
          "output_type": "stream",
          "name": "stdout",
          "text": [
            "(42, 2) (14, 2)\n"
          ]
        }
      ]
    },
    {
      "cell_type": "code",
      "source": [
        "lr = LinearRegression()\n",
        "lr.fit(train_poly, train_target)\n",
        "\n",
        "print(lr.predict([[50**2, 50]]))"
      ],
      "metadata": {
        "colab": {
          "base_uri": "https://localhost:8080/"
        },
        "id": "GaSSxH0tDyAK",
        "outputId": "41801e23-e4fc-4367-b148-664a64919c34"
      },
      "execution_count": null,
      "outputs": [
        {
          "output_type": "stream",
          "name": "stdout",
          "text": [
            "[1573.98423528]\n"
          ]
        }
      ]
    },
    {
      "cell_type": "code",
      "source": [
        "print(lr.coef_, lr.intercept_)"
      ],
      "metadata": {
        "colab": {
          "base_uri": "https://localhost:8080/"
        },
        "id": "DMZSCfvqD1o_",
        "outputId": "885c6d4d-c977-4b76-ac84-eb3a86129ffe"
      },
      "execution_count": null,
      "outputs": [
        {
          "output_type": "stream",
          "name": "stdout",
          "text": [
            "[  1.01433211 -21.55792498] 116.0502107827827\n"
          ]
        }
      ]
    },
    {
      "cell_type": "code",
      "source": [
        "# 구간별 직선을 그리기 위해 15에서 49까지 정수 배열을 만듭니다\n",
        "point = np.arange(15, 50)\n",
        "# 훈련 세트의 산점도를 그립니다\n",
        "plt.scatter(train_input, train_target)\n",
        "# 15에서 49까지 2차 방정식 그래프를 그립니다\n",
        "plt.plot(point, 1.01*point**2 - 21.6*point + 116.05)\n",
        "# 50cm 농어 데이터\n",
        "plt.scatter([50], [1574], marker='^')\n",
        "plt.xlabel('length')\n",
        "plt.ylabel('weight')\n",
        "plt.show()"
      ],
      "metadata": {
        "colab": {
          "base_uri": "https://localhost:8080/",
          "height": 279
        },
        "id": "5VTZFY6dD2ch",
        "outputId": "0a67c901-8cbd-4e77-b6c5-e5044186565e"
      },
      "execution_count": null,
      "outputs": [
        {
          "output_type": "display_data",
          "data": {
            "image/png": "[encoded data removed]",
            "text/plain": [
              "<Figure size 432x288 with 1 Axes>"
            ]
          },
          "metadata": {
            "needs_background": "light"
          }
        }
      ]
    },
    {
      "cell_type": "code",
      "source": [
        "print(lr.score(train_poly, train_target))\n",
        "print(lr.score(test_poly, test_target))"
      ],
      "metadata": {
        "colab": {
          "base_uri": "https://localhost:8080/"
        },
        "id": "j8jnKAElD4-5",
        "outputId": "53458711-dc37-4dc9-d74d-92b6d8cfb8fc"
      },
      "execution_count": null,
      "outputs": [
        {
          "output_type": "stream",
          "name": "stdout",
          "text": [
            "0.9706807451768623\n",
            "0.9775935108325122\n"
          ]
        }
      ]
    },
    {
      "cell_type": "code",
      "source": [
        ""
      ],
      "metadata": {
        "id": "vJfxL8bJD0Ex"
      },
      "execution_count": null,
      "outputs": []
    },
    {
      "cell_type": "code",
      "source": [
        ""
      ],
      "metadata": {
        "id": "oi62iusZ_87u"
      },
      "execution_count": null,
      "outputs": []
    },
    {
      "cell_type": "code",
      "source": [
        ""
      ],
      "metadata": {
        "id": "Qj6Dr_qc_5ot"
      },
      "execution_count": null,
      "outputs": []
    },
    {
      "cell_type": "code",
      "source": [
        ""
      ],
      "metadata": {
        "id": "Y1L_Tea5_uCO"
      },
      "execution_count": null,
      "outputs": []
    },
    {
      "cell_type": "code",
      "source": [
        ""
      ],
      "metadata": {
        "id": "PQJEBTs6-S3_"
      },
      "execution_count": null,
      "outputs": []
    },
    {
      "cell_type": "code",
      "source": [
        ""
      ],
      "metadata": {
        "id": "0DlZUHhZ90BG"
      },
      "execution_count": null,
      "outputs": []
    },
    {
      "cell_type": "code",
      "source": [
        ""
      ],
      "metadata": {
        "id": "nAhLbNeG9v5v"
      },
      "execution_count": null,
      "outputs": []
    },
    {
      "cell_type": "code",
      "source": [
        ""
      ],
      "metadata": {
        "id": "04hs7s6j9Js1"
      },
      "execution_count": null,
      "outputs": []
    },
    {
      "cell_type": "code",
      "source": [
        ""
      ],
      "metadata": {
        "id": "yPmL8i2J8-1l"
      },
      "execution_count": null,
      "outputs": []
    },
    {
      "cell_type": "code",
      "source": [
        ""
      ],
      "metadata": {
        "id": "reAa1zPb88cH"
      },
      "execution_count": null,
      "outputs": []
    }
  ]
}